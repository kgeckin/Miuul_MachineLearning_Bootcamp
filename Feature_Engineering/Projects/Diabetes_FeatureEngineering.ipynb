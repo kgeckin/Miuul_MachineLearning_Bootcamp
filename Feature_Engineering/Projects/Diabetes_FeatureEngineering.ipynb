{
  "cells": [
    {
      "cell_type": "markdown",
      "id": "565a3292",
      "metadata": {
        "id": "565a3292"
      },
      "source": [
        "# DIABETES FEATURE ENGINEERING"
      ]
    },
    {
      "cell_type": "markdown",
      "id": "c6d14146",
      "metadata": {
        "id": "c6d14146"
      },
      "source": [
        "## TASK: \n",
        ">It is requested to develop a machine learning model that can predict whether people have diabetes when their characteristics are specified. You are expected to perform the necessary data analysis and feature engineering steps before developing the model.\n"
      ]
    },
    {
      "cell_type": "markdown",
      "source": [
        "## TASK 1: DATA DISCOVERY ANALYSIS\n",
        "\n",
        "\n",
        "---\n",
        "\n"
      ],
      "metadata": {
        "id": "WmoeWsuo_4nA"
      },
      "id": "WmoeWsuo_4nA"
    },
    {
      "cell_type": "markdown",
      "id": "c4b89ee2",
      "metadata": {
        "id": "c4b89ee2"
      },
      "source": [
        "1. Examine the overall picture.\n",
        "2. Capture the numeric and categorical variables.\n",
        "3. Analyze the numerical and categorical variables.\n",
        "4. Perform target variable analysis. (The mean of the target variable according to the categorical variables, the mean of the numeric variables according to the target variable)\n",
        "5. Analyze outliers.\n",
        "6. Perform missing observation analysis.\n",
        "7. Perform correlation analysis.\n"
      ]
    },
    {
      "cell_type": "markdown",
      "id": "bd19e575",
      "metadata": {
        "id": "bd19e575"
      },
      "source": [
        " ## TASK 2: FEATURE ENGINEERING\n",
        "\n",
        "\n",
        "---\n",
        "\n"
      ]
    },
    {
      "cell_type": "markdown",
      "source": [
        "1. Take necessary actions for missing and outlier values. There are no missing observations in the data set, but Glucose, Insulin etc. Observation units containing a value of 0 in the variables may represent the missing value.\n",
        "> For example; a person's glucose or insulin value will not be 0. Considering this situation, you can assign the zero values to the relevant values as NaN and then apply the operations to the missing values.\n",
        "2. Create new variables.\n",
        "3. Perform the encoding operations.\n",
        "4. Standardize for numeric variables.\n",
        "5. Build a model."
      ],
      "metadata": {
        "id": "2MLLKNzsAIB9"
      },
      "id": "2MLLKNzsAIB9"
    },
    {
      "cell_type": "code",
      "execution_count": 87,
      "id": "6d8c39ff",
      "metadata": {
        "id": "6d8c39ff"
      },
      "outputs": [],
      "source": [
        "import numpy as np\n",
        "import pandas as pd\n",
        "import seaborn as sns\n",
        "import matplotlib.pyplot as plt\n",
        "from sklearn.preprocessing import LabelEncoder\n",
        "from sklearn.preprocessing import StandardScaler\n",
        "from sklearn.ensemble import RandomForestClassifier\n",
        "from sklearn.model_selection import train_test_split\n",
        "from sklearn.metrics import accuracy_score, precision_score, recall_score, f1_score, roc_auc_score\n",
        "import plotly.express as px\n",
        "import plotly.io as pio\n",
        "import plotly.graph_objects as go\n",
        "from plotly.subplots import make_subplots\n",
        "pio.renderers.default = \"svg\"\n",
        "pio.templates.default = \"plotly_white\"\n",
        "import warnings\n",
        "warnings.simplefilter(action=\"ignore\")\n",
        "\n",
        "pd.set_option('display.max_columns', None)\n",
        "pd.set_option('display.width', 170)\n",
        "pd.set_option('display.max_rows', 20)\n",
        "pd.set_option('display.float_format', lambda x: '%.3f' % x)\n"
      ]
    },
    {
      "cell_type": "code",
      "execution_count": 46,
      "id": "90996c37",
      "metadata": {
        "id": "90996c37"
      },
      "outputs": [],
      "source": [
        "def load():\n",
        "    data = pd.read_csv(\"/content/diabetes.csv\")\n",
        "    return data"
      ]
    },
    {
      "cell_type": "markdown",
      "id": "0453138f",
      "metadata": {
        "id": "0453138f"
      },
      "source": [
        "### GÖREV 1: KEŞİFCİ VERİ ANALİZİ"
      ]
    },
    {
      "cell_type": "code",
      "execution_count": 47,
      "id": "2e529c58",
      "metadata": {
        "id": "2e529c58"
      },
      "outputs": [],
      "source": [
        "df = load()"
      ]
    },
    {
      "cell_type": "code",
      "execution_count": 48,
      "id": "b8475ecf",
      "metadata": {
        "colab": {
          "base_uri": "https://localhost:8080/",
          "height": 206
        },
        "id": "b8475ecf",
        "outputId": "4c2edffa-61e7-45d3-9e71-a46ec18384aa"
      },
      "outputs": [
        {
          "output_type": "execute_result",
          "data": {
            "text/plain": [
              "   Pregnancies  Glucose  BloodPressure  SkinThickness  Insulin    BMI  DiabetesPedigreeFunction  Age  Outcome\n",
              "0            6      148             72             35        0 33.600                     0.627   50        1\n",
              "1            1       85             66             29        0 26.600                     0.351   31        0\n",
              "2            8      183             64              0        0 23.300                     0.672   32        1\n",
              "3            1       89             66             23       94 28.100                     0.167   21        0\n",
              "4            0      137             40             35      168 43.100                     2.288   33        1"
            ],
            "text/html": [
              "\n",
              "  <div id=\"df-23b716c7-5196-4081-80f5-be83c4bf9309\">\n",
              "    <div class=\"colab-df-container\">\n",
              "      <div>\n",
              "<style scoped>\n",
              "    .dataframe tbody tr th:only-of-type {\n",
              "        vertical-align: middle;\n",
              "    }\n",
              "\n",
              "    .dataframe tbody tr th {\n",
              "        vertical-align: top;\n",
              "    }\n",
              "\n",
              "    .dataframe thead th {\n",
              "        text-align: right;\n",
              "    }\n",
              "</style>\n",
              "<table border=\"1\" class=\"dataframe\">\n",
              "  <thead>\n",
              "    <tr style=\"text-align: right;\">\n",
              "      <th></th>\n",
              "      <th>Pregnancies</th>\n",
              "      <th>Glucose</th>\n",
              "      <th>BloodPressure</th>\n",
              "      <th>SkinThickness</th>\n",
              "      <th>Insulin</th>\n",
              "      <th>BMI</th>\n",
              "      <th>DiabetesPedigreeFunction</th>\n",
              "      <th>Age</th>\n",
              "      <th>Outcome</th>\n",
              "    </tr>\n",
              "  </thead>\n",
              "  <tbody>\n",
              "    <tr>\n",
              "      <th>0</th>\n",
              "      <td>6</td>\n",
              "      <td>148</td>\n",
              "      <td>72</td>\n",
              "      <td>35</td>\n",
              "      <td>0</td>\n",
              "      <td>33.600</td>\n",
              "      <td>0.627</td>\n",
              "      <td>50</td>\n",
              "      <td>1</td>\n",
              "    </tr>\n",
              "    <tr>\n",
              "      <th>1</th>\n",
              "      <td>1</td>\n",
              "      <td>85</td>\n",
              "      <td>66</td>\n",
              "      <td>29</td>\n",
              "      <td>0</td>\n",
              "      <td>26.600</td>\n",
              "      <td>0.351</td>\n",
              "      <td>31</td>\n",
              "      <td>0</td>\n",
              "    </tr>\n",
              "    <tr>\n",
              "      <th>2</th>\n",
              "      <td>8</td>\n",
              "      <td>183</td>\n",
              "      <td>64</td>\n",
              "      <td>0</td>\n",
              "      <td>0</td>\n",
              "      <td>23.300</td>\n",
              "      <td>0.672</td>\n",
              "      <td>32</td>\n",
              "      <td>1</td>\n",
              "    </tr>\n",
              "    <tr>\n",
              "      <th>3</th>\n",
              "      <td>1</td>\n",
              "      <td>89</td>\n",
              "      <td>66</td>\n",
              "      <td>23</td>\n",
              "      <td>94</td>\n",
              "      <td>28.100</td>\n",
              "      <td>0.167</td>\n",
              "      <td>21</td>\n",
              "      <td>0</td>\n",
              "    </tr>\n",
              "    <tr>\n",
              "      <th>4</th>\n",
              "      <td>0</td>\n",
              "      <td>137</td>\n",
              "      <td>40</td>\n",
              "      <td>35</td>\n",
              "      <td>168</td>\n",
              "      <td>43.100</td>\n",
              "      <td>2.288</td>\n",
              "      <td>33</td>\n",
              "      <td>1</td>\n",
              "    </tr>\n",
              "  </tbody>\n",
              "</table>\n",
              "</div>\n",
              "      <button class=\"colab-df-convert\" onclick=\"convertToInteractive('df-23b716c7-5196-4081-80f5-be83c4bf9309')\"\n",
              "              title=\"Convert this dataframe to an interactive table.\"\n",
              "              style=\"display:none;\">\n",
              "        \n",
              "  <svg xmlns=\"http://www.w3.org/2000/svg\" height=\"24px\"viewBox=\"0 0 24 24\"\n",
              "       width=\"24px\">\n",
              "    <path d=\"M0 0h24v24H0V0z\" fill=\"none\"/>\n",
              "    <path d=\"M18.56 5.44l.94 2.06.94-2.06 2.06-.94-2.06-.94-.94-2.06-.94 2.06-2.06.94zm-11 1L8.5 8.5l.94-2.06 2.06-.94-2.06-.94L8.5 2.5l-.94 2.06-2.06.94zm10 10l.94 2.06.94-2.06 2.06-.94-2.06-.94-.94-2.06-.94 2.06-2.06.94z\"/><path d=\"M17.41 7.96l-1.37-1.37c-.4-.4-.92-.59-1.43-.59-.52 0-1.04.2-1.43.59L10.3 9.45l-7.72 7.72c-.78.78-.78 2.05 0 2.83L4 21.41c.39.39.9.59 1.41.59.51 0 1.02-.2 1.41-.59l7.78-7.78 2.81-2.81c.8-.78.8-2.07 0-2.86zM5.41 20L4 18.59l7.72-7.72 1.47 1.35L5.41 20z\"/>\n",
              "  </svg>\n",
              "      </button>\n",
              "      \n",
              "  <style>\n",
              "    .colab-df-container {\n",
              "      display:flex;\n",
              "      flex-wrap:wrap;\n",
              "      gap: 12px;\n",
              "    }\n",
              "\n",
              "    .colab-df-convert {\n",
              "      background-color: #E8F0FE;\n",
              "      border: none;\n",
              "      border-radius: 50%;\n",
              "      cursor: pointer;\n",
              "      display: none;\n",
              "      fill: #1967D2;\n",
              "      height: 32px;\n",
              "      padding: 0 0 0 0;\n",
              "      width: 32px;\n",
              "    }\n",
              "\n",
              "    .colab-df-convert:hover {\n",
              "      background-color: #E2EBFA;\n",
              "      box-shadow: 0px 1px 2px rgba(60, 64, 67, 0.3), 0px 1px 3px 1px rgba(60, 64, 67, 0.15);\n",
              "      fill: #174EA6;\n",
              "    }\n",
              "\n",
              "    [theme=dark] .colab-df-convert {\n",
              "      background-color: #3B4455;\n",
              "      fill: #D2E3FC;\n",
              "    }\n",
              "\n",
              "    [theme=dark] .colab-df-convert:hover {\n",
              "      background-color: #434B5C;\n",
              "      box-shadow: 0px 1px 3px 1px rgba(0, 0, 0, 0.15);\n",
              "      filter: drop-shadow(0px 1px 2px rgba(0, 0, 0, 0.3));\n",
              "      fill: #FFFFFF;\n",
              "    }\n",
              "  </style>\n",
              "\n",
              "      <script>\n",
              "        const buttonEl =\n",
              "          document.querySelector('#df-23b716c7-5196-4081-80f5-be83c4bf9309 button.colab-df-convert');\n",
              "        buttonEl.style.display =\n",
              "          google.colab.kernel.accessAllowed ? 'block' : 'none';\n",
              "\n",
              "        async function convertToInteractive(key) {\n",
              "          const element = document.querySelector('#df-23b716c7-5196-4081-80f5-be83c4bf9309');\n",
              "          const dataTable =\n",
              "            await google.colab.kernel.invokeFunction('convertToInteractive',\n",
              "                                                     [key], {});\n",
              "          if (!dataTable) return;\n",
              "\n",
              "          const docLinkHtml = 'Like what you see? Visit the ' +\n",
              "            '<a target=\"_blank\" href=https://colab.research.google.com/notebooks/data_table.ipynb>data table notebook</a>'\n",
              "            + ' to learn more about interactive tables.';\n",
              "          element.innerHTML = '';\n",
              "          dataTable['output_type'] = 'display_data';\n",
              "          await google.colab.output.renderOutput(dataTable, element);\n",
              "          const docLink = document.createElement('div');\n",
              "          docLink.innerHTML = docLinkHtml;\n",
              "          element.appendChild(docLink);\n",
              "        }\n",
              "      </script>\n",
              "    </div>\n",
              "  </div>\n",
              "  "
            ]
          },
          "metadata": {},
          "execution_count": 48
        }
      ],
      "source": [
        "df.head()"
      ]
    },
    {
      "cell_type": "code",
      "execution_count": 49,
      "id": "72f7dea2",
      "metadata": {
        "colab": {
          "base_uri": "https://localhost:8080/"
        },
        "id": "72f7dea2",
        "outputId": "53d0a4a9-b92f-40c7-f350-798f541a2cb7"
      },
      "outputs": [
        {
          "output_type": "execute_result",
          "data": {
            "text/plain": [
              "False"
            ]
          },
          "metadata": {},
          "execution_count": 49
        }
      ],
      "source": [
        "df.isnull().values.any()"
      ]
    },
    {
      "cell_type": "code",
      "execution_count": 50,
      "id": "f1ea5fbd",
      "metadata": {
        "colab": {
          "base_uri": "https://localhost:8080/"
        },
        "id": "f1ea5fbd",
        "outputId": "e674c582-e049-46a5-8138-4f21cd5b41ab"
      },
      "outputs": [
        {
          "output_type": "execute_result",
          "data": {
            "text/plain": [
              "Pregnancies                 0\n",
              "Glucose                     0\n",
              "BloodPressure               0\n",
              "SkinThickness               0\n",
              "Insulin                     0\n",
              "BMI                         0\n",
              "DiabetesPedigreeFunction    0\n",
              "Age                         0\n",
              "Outcome                     0\n",
              "dtype: int64"
            ]
          },
          "metadata": {},
          "execution_count": 50
        }
      ],
      "source": [
        "df.isnull().sum()"
      ]
    },
    {
      "cell_type": "code",
      "execution_count": 51,
      "id": "b144a961",
      "metadata": {
        "id": "b144a961"
      },
      "outputs": [],
      "source": [
        "def check_df(dataframe, head=5):\n",
        "    print(\"##################### Shape #####################\")\n",
        "    print(dataframe.shape)\n",
        "    print(\"##################### Types #####################\")\n",
        "    print(dataframe.dtypes)\n",
        "    print(\"##################### Head #####################\")\n",
        "    print(dataframe.head(head))\n",
        "    print(\"##################### Tail #####################\")\n",
        "    print(dataframe.tail(head))\n",
        "    print(\"##################### NA #####################\")\n",
        "    print(dataframe.isnull().sum())\n",
        "    print(\"##################### Quantiles #####################\")\n",
        "    print(dataframe.quantile([0, 0.05, 0.50, 0.95, 0.99, 1]).T)\n"
      ]
    },
    {
      "cell_type": "code",
      "execution_count": 52,
      "id": "8fed151e",
      "metadata": {
        "colab": {
          "base_uri": "https://localhost:8080/"
        },
        "id": "8fed151e",
        "outputId": "2ff97352-c008-47ba-e042-be4daf058a9b"
      },
      "outputs": [
        {
          "output_type": "stream",
          "name": "stdout",
          "text": [
            "##################### Shape #####################\n",
            "(768, 9)\n",
            "##################### Types #####################\n",
            "Pregnancies                   int64\n",
            "Glucose                       int64\n",
            "BloodPressure                 int64\n",
            "SkinThickness                 int64\n",
            "Insulin                       int64\n",
            "BMI                         float64\n",
            "DiabetesPedigreeFunction    float64\n",
            "Age                           int64\n",
            "Outcome                       int64\n",
            "dtype: object\n",
            "##################### Head #####################\n",
            "   Pregnancies  Glucose  BloodPressure  SkinThickness  Insulin    BMI  DiabetesPedigreeFunction  Age  Outcome\n",
            "0            6      148             72             35        0 33.600                     0.627   50        1\n",
            "1            1       85             66             29        0 26.600                     0.351   31        0\n",
            "2            8      183             64              0        0 23.300                     0.672   32        1\n",
            "3            1       89             66             23       94 28.100                     0.167   21        0\n",
            "4            0      137             40             35      168 43.100                     2.288   33        1\n",
            "##################### Tail #####################\n",
            "     Pregnancies  Glucose  BloodPressure  SkinThickness  Insulin    BMI  DiabetesPedigreeFunction  Age  Outcome\n",
            "763           10      101             76             48      180 32.900                     0.171   63        0\n",
            "764            2      122             70             27        0 36.800                     0.340   27        0\n",
            "765            5      121             72             23      112 26.200                     0.245   30        0\n",
            "766            1      126             60              0        0 30.100                     0.349   47        1\n",
            "767            1       93             70             31        0 30.400                     0.315   23        0\n",
            "##################### NA #####################\n",
            "Pregnancies                 0\n",
            "Glucose                     0\n",
            "BloodPressure               0\n",
            "SkinThickness               0\n",
            "Insulin                     0\n",
            "BMI                         0\n",
            "DiabetesPedigreeFunction    0\n",
            "Age                         0\n",
            "Outcome                     0\n",
            "dtype: int64\n",
            "##################### Quantiles #####################\n",
            "                          0.000  0.050   0.500   0.950   0.990   1.000\n",
            "Pregnancies               0.000  0.000   3.000  10.000  13.000  17.000\n",
            "Glucose                   0.000 79.000 117.000 181.000 196.000 199.000\n",
            "BloodPressure             0.000 38.700  72.000  90.000 106.000 122.000\n",
            "SkinThickness             0.000  0.000  23.000  44.000  51.330  99.000\n",
            "Insulin                   0.000  0.000  30.500 293.000 519.900 846.000\n",
            "BMI                       0.000 21.800  32.000  44.395  50.759  67.100\n",
            "DiabetesPedigreeFunction  0.078  0.140   0.372   1.133   1.698   2.420\n",
            "Age                      21.000 21.000  29.000  58.000  67.000  81.000\n",
            "Outcome                   0.000  0.000   0.000   1.000   1.000   1.000\n"
          ]
        }
      ],
      "source": [
        "check_df(df)"
      ]
    },
    {
      "cell_type": "code",
      "execution_count": 53,
      "id": "b009503a",
      "metadata": {
        "id": "b009503a"
      },
      "outputs": [],
      "source": [
        "def grab_col_names(dataframe, cat_th=10, car_th=20):\n",
        "    \"\"\"\n",
        "\n",
        "    It gives the names of categorical, numerical and categorical but cardinal variables in the data set. \n",
        "    ote: Categorical variables with numerical appearance are also included in categorical variables.\n",
        "\n",
        "    Parameters\n",
        "    ------\n",
        "        dataframe: dataframe\n",
        "                The dataframe from which variable names are to be retrieved\n",
        "        cat_th: int, optional\n",
        "                class threshold for numeric but categorical variables\n",
        "        car_th: int, optinal\n",
        "                class threshold for categorical but cardinal variables\n",
        "\n",
        "    Returns\n",
        "    ------\n",
        "        cat_cols: list\n",
        "                Categorical variable list\n",
        "        num_cols: list\n",
        "                Numeric variable list\n",
        "        cat_but_car: list\n",
        "                Categorical view cardinal variable list\n",
        "    Examples\n",
        "    ------\n",
        "        import seaborn as sns\n",
        "        df = sns.load_dataset(\"iris\")\n",
        "        print(grab_col_names(df))\n",
        "\n",
        "\n",
        "    Notes\n",
        "    ------\n",
        "        cat_cols + num_cols + cat_but_car = total variables\n",
        "        num_but_cat inside the cat_cols'un.\n",
        "        The sum of 3 lists with return is equal to the total number of variables: cat_cols + num_cols + cat_but_car = number of variables\n",
        "\n",
        "    \"\"\"\n",
        "\n",
        "    # cat_cols, cat_but_car\n",
        "    cat_cols = [col for col in dataframe.columns if dataframe[col].dtypes == \"O\"]\n",
        "    num_but_cat = [col for col in dataframe.columns if dataframe[col].nunique() < cat_th and\n",
        "                   dataframe[col].dtypes != \"O\"]\n",
        "    cat_but_car = [col for col in dataframe.columns if dataframe[col].nunique() > car_th and\n",
        "                   dataframe[col].dtypes == \"O\"]\n",
        "    cat_cols = cat_cols + num_but_cat\n",
        "    cat_cols = [col for col in cat_cols if col not in cat_but_car]\n",
        "\n",
        "    # num_cols\n",
        "    num_cols = [col for col in dataframe.columns if dataframe[col].dtypes != \"O\"]\n",
        "    num_cols = [col for col in num_cols if col not in num_but_cat]\n",
        "\n",
        "    print(f\"Observations: {dataframe.shape[0]}\")\n",
        "    print(f\"Variables: {dataframe.shape[1]}\")\n",
        "    print(f'cat_cols: {len(cat_cols)}')\n",
        "    print(f'num_cols: {len(num_cols)}')\n",
        "    print(f'cat_but_car: {len(cat_but_car)}')\n",
        "    print(f'num_but_cat: {len(num_but_cat)}')\n",
        "    return cat_cols, num_cols, cat_but_car"
      ]
    },
    {
      "cell_type": "code",
      "execution_count": 54,
      "id": "2d0ecd7c",
      "metadata": {
        "colab": {
          "base_uri": "https://localhost:8080/"
        },
        "id": "2d0ecd7c",
        "outputId": "4018fc0d-c641-4fb1-8c2b-5d2a403c2eff"
      },
      "outputs": [
        {
          "output_type": "stream",
          "name": "stdout",
          "text": [
            "Observations: 768\n",
            "Variables: 9\n",
            "cat_cols: 1\n",
            "num_cols: 8\n",
            "cat_but_car: 0\n",
            "num_but_cat: 1\n"
          ]
        }
      ],
      "source": [
        "cat_cols, num_cols, cat_but_car = grab_col_names(df)"
      ]
    },
    {
      "cell_type": "code",
      "execution_count": 55,
      "id": "74bc82a4",
      "metadata": {
        "colab": {
          "base_uri": "https://localhost:8080/"
        },
        "id": "74bc82a4",
        "outputId": "2383ddc5-4780-4c5a-f7ff-b8f153210956"
      },
      "outputs": [
        {
          "output_type": "execute_result",
          "data": {
            "text/plain": [
              "['Outcome']"
            ]
          },
          "metadata": {},
          "execution_count": 55
        }
      ],
      "source": [
        "cat_cols"
      ]
    },
    {
      "cell_type": "code",
      "execution_count": 56,
      "id": "9e73f8d1",
      "metadata": {
        "colab": {
          "base_uri": "https://localhost:8080/"
        },
        "id": "9e73f8d1",
        "outputId": "332320ad-01ae-4a54-e339-d92e10f2ab54"
      },
      "outputs": [
        {
          "output_type": "execute_result",
          "data": {
            "text/plain": [
              "['Pregnancies',\n",
              " 'Glucose',\n",
              " 'BloodPressure',\n",
              " 'SkinThickness',\n",
              " 'Insulin',\n",
              " 'BMI',\n",
              " 'DiabetesPedigreeFunction',\n",
              " 'Age']"
            ]
          },
          "metadata": {},
          "execution_count": 56
        }
      ],
      "source": [
        "num_cols"
      ]
    },
    {
      "cell_type": "code",
      "execution_count": 57,
      "id": "9476f84a",
      "metadata": {
        "colab": {
          "base_uri": "https://localhost:8080/"
        },
        "id": "9476f84a",
        "outputId": "2538507e-2eeb-4a1f-bdd6-933208df9aff"
      },
      "outputs": [
        {
          "output_type": "execute_result",
          "data": {
            "text/plain": [
              "[]"
            ]
          },
          "metadata": {},
          "execution_count": 57
        }
      ],
      "source": [
        "cat_but_car"
      ]
    },
    {
      "cell_type": "code",
      "execution_count": 66,
      "id": "58c7fe61",
      "metadata": {
        "id": "58c7fe61"
      },
      "outputs": [],
      "source": [
        "def cat_summary(dataframe, col_name, plot=False):\n",
        "    print(pd.DataFrame({col_name: dataframe[col_name].value_counts(),\n",
        "                        \"Ratio\": 100 * dataframe[col_name].value_counts() / len(dataframe)}))\n",
        "    if plot:\n",
        "        sns.countplot(x=dataframe[col_name], data=dataframe)\n",
        "        plt.show()\n"
      ]
    },
    {
      "cell_type": "code",
      "execution_count": 67,
      "id": "61e204ff",
      "metadata": {
        "colab": {
          "base_uri": "https://localhost:8080/"
        },
        "id": "61e204ff",
        "outputId": "c37f4aaf-0d99-4d45-b8bb-96b4a8638d02"
      },
      "outputs": [
        {
          "output_type": "stream",
          "name": "stdout",
          "text": [
            "   Outcome  Ratio\n",
            "0      500 65.104\n",
            "1      268 34.896\n"
          ]
        }
      ],
      "source": [
        "cat_summary(df, \"Outcome\")"
      ]
    },
    {
      "cell_type": "code",
      "execution_count": 68,
      "id": "bebe5ac7",
      "metadata": {
        "id": "bebe5ac7"
      },
      "outputs": [],
      "source": [
        "def num_summary(dataframe, numerical_col, plot=False):\n",
        "    quantiles = [0.05, 0.10, 0.20, 0.30, 0.40, 0.50, 0.60, 0.70, 0.80, 0.90, 0.95, 0.99]\n",
        "    print(dataframe[numerical_col].describe(quantiles).T)\n",
        "\n",
        "    if plot:\n",
        "        dataframe[numerical_col].hist(bins=20)\n",
        "        plt.xlabel(numerical_col)\n",
        "        plt.title(numerical_col)\n",
        "        plt.show()\n"
      ]
    },
    {
      "cell_type": "code",
      "execution_count": 69,
      "id": "ca7e78c4",
      "metadata": {
        "colab": {
          "base_uri": "https://localhost:8080/"
        },
        "id": "ca7e78c4",
        "outputId": "00f2e437-8eba-4be4-e74f-efe651baac2e"
      },
      "outputs": [
        {
          "output_type": "execute_result",
          "data": {
            "text/plain": [
              "['Pregnancies',\n",
              " 'Glucose',\n",
              " 'BloodPressure',\n",
              " 'SkinThickness',\n",
              " 'Insulin',\n",
              " 'BMI',\n",
              " 'DiabetesPedigreeFunction',\n",
              " 'Age']"
            ]
          },
          "metadata": {},
          "execution_count": 69
        }
      ],
      "source": [
        "num_cols"
      ]
    },
    {
      "cell_type": "code",
      "execution_count": 70,
      "id": "cef9143e",
      "metadata": {
        "colab": {
          "base_uri": "https://localhost:8080/",
          "height": 1000
        },
        "id": "cef9143e",
        "outputId": "95ad571e-3e1f-4863-9ac9-6bcb4cbda701"
      },
      "outputs": [
        {
          "output_type": "stream",
          "name": "stdout",
          "text": [
            "count   768.000\n",
            "mean      3.845\n",
            "std       3.370\n",
            "min       0.000\n",
            "5%        0.000\n",
            "10%       0.000\n",
            "20%       1.000\n",
            "30%       1.000\n",
            "40%       2.000\n",
            "50%       3.000\n",
            "60%       4.000\n",
            "70%       5.000\n",
            "80%       7.000\n",
            "90%       9.000\n",
            "95%      10.000\n",
            "99%      13.000\n",
            "max      17.000\n",
            "Name: Pregnancies, dtype: float64\n"
          ]
        },
        {
          "output_type": "display_data",
          "data": {
            "text/plain": [
              "<Figure size 432x288 with 1 Axes>"
            ],
            "image/png": "[encoded data removed]"
          },
          "metadata": {
            "needs_background": "light"
          }
        },
        {
          "output_type": "stream",
          "name": "stdout",
          "text": [
            "count   768.000\n",
            "mean    120.895\n",
            "std      31.973\n",
            "min       0.000\n",
            "5%       79.000\n",
            "10%      85.000\n",
            "20%      95.000\n",
            "30%     102.000\n",
            "40%     109.000\n",
            "50%     117.000\n",
            "60%     125.000\n",
            "70%     134.000\n",
            "80%     147.000\n",
            "90%     167.000\n",
            "95%     181.000\n",
            "99%     196.000\n",
            "max     199.000\n",
            "Name: Glucose, dtype: float64\n"
          ]
        },
        {
          "output_type": "display_data",
          "data": {
            "text/plain": [
              "<Figure size 432x288 with 1 Axes>"
            ],
            "image/png": "[encoded data removed]"
          },
          "metadata": {
            "needs_background": "light"
          }
        },
        {
          "output_type": "stream",
          "name": "stdout",
          "text": [
            "count   768.000\n",
            "mean     69.105\n",
            "std      19.356\n",
            "min       0.000\n",
            "5%       38.700\n",
            "10%      54.000\n",
            "20%      60.000\n",
            "30%      64.000\n",
            "40%      68.000\n",
            "50%      72.000\n",
            "60%      74.000\n",
            "70%      78.000\n",
            "80%      82.000\n",
            "90%      88.000\n",
            "95%      90.000\n",
            "99%     106.000\n",
            "max     122.000\n",
            "Name: BloodPressure, dtype: float64\n"
          ]
        },
        {
          "output_type": "display_data",
          "data": {
            "text/plain": [
              "<Figure size 432x288 with 1 Axes>"
            ],
            "image/png": "[encoded data removed]"
          },
          "metadata": {
            "needs_background": "light"
          }
        },
        {
          "output_type": "stream",
          "name": "stdout",
          "text": [
            "count   768.000\n",
            "mean     20.536\n",
            "std      15.952\n",
            "min       0.000\n",
            "5%        0.000\n",
            "10%       0.000\n",
            "20%       0.000\n",
            "30%       8.200\n",
            "40%      18.000\n",
            "50%      23.000\n",
            "60%      27.000\n",
            "70%      31.000\n",
            "80%      35.000\n",
            "90%      40.000\n",
            "95%      44.000\n",
            "99%      51.330\n",
            "max      99.000\n",
            "Name: SkinThickness, dtype: float64\n"
          ]
        },
        {
          "output_type": "display_data",
          "data": {
            "text/plain": [
              "<Figure size 432x288 with 1 Axes>"
            ],
            "image/png": "[encoded data removed]"
          },
          "metadata": {
            "needs_background": "light"
          }
        },
        {
          "output_type": "stream",
          "name": "stdout",
          "text": [
            "count   768.000\n",
            "mean     79.799\n",
            "std     115.244\n",
            "min       0.000\n",
            "5%        0.000\n",
            "10%       0.000\n",
            "20%       0.000\n",
            "30%       0.000\n",
            "40%       0.000\n",
            "50%      30.500\n",
            "60%      72.200\n",
            "70%     106.000\n",
            "80%     150.000\n",
            "90%     210.000\n",
            "95%     293.000\n",
            "99%     519.900\n",
            "max     846.000\n",
            "Name: Insulin, dtype: float64\n"
          ]
        },
        {
          "output_type": "display_data",
          "data": {
            "text/plain": [
              "<Figure size 432x288 with 1 Axes>"
            ],
            "image/png": "[encoded data removed]"
          },
          "metadata": {
            "needs_background": "light"
          }
        },
        {
          "output_type": "stream",
          "name": "stdout",
          "text": [
            "count   768.000\n",
            "mean     31.993\n",
            "std       7.884\n",
            "min       0.000\n",
            "5%       21.800\n",
            "10%      23.600\n",
            "20%      25.900\n",
            "30%      28.200\n",
            "40%      30.100\n",
            "50%      32.000\n",
            "60%      33.700\n",
            "70%      35.490\n",
            "80%      37.800\n",
            "90%      41.500\n",
            "95%      44.395\n",
            "99%      50.759\n",
            "max      67.100\n",
            "Name: BMI, dtype: float64\n"
          ]
        },
        {
          "output_type": "display_data",
          "data": {
            "text/plain": [
              "<Figure size 432x288 with 1 Axes>"
            ],
            "image/png": "[encoded data removed]"
          },
          "metadata": {
            "needs_background": "light"
          }
        },
        {
          "output_type": "stream",
          "name": "stdout",
          "text": [
            "count   768.000\n",
            "mean      0.472\n",
            "std       0.331\n",
            "min       0.078\n",
            "5%        0.140\n",
            "10%       0.165\n",
            "20%       0.219\n",
            "30%       0.259\n",
            "40%       0.303\n",
            "50%       0.372\n",
            "60%       0.454\n",
            "70%       0.564\n",
            "80%       0.687\n",
            "90%       0.879\n",
            "95%       1.133\n",
            "99%       1.698\n",
            "max       2.420\n",
            "Name: DiabetesPedigreeFunction, dtype: float64\n"
          ]
        },
        {
          "output_type": "display_data",
          "data": {
            "text/plain": [
              "<Figure size 432x288 with 1 Axes>"
            ],
            "image/png": "[encoded data removed]"
          },
          "metadata": {
            "needs_background": "light"
          }
        },
        {
          "output_type": "stream",
          "name": "stdout",
          "text": [
            "count   768.000\n",
            "mean     33.241\n",
            "std      11.760\n",
            "min      21.000\n",
            "5%       21.000\n",
            "10%      22.000\n",
            "20%      23.000\n",
            "30%      25.000\n",
            "40%      27.000\n",
            "50%      29.000\n",
            "60%      33.000\n",
            "70%      38.000\n",
            "80%      42.600\n",
            "90%      51.000\n",
            "95%      58.000\n",
            "99%      67.000\n",
            "max      81.000\n",
            "Name: Age, dtype: float64\n"
          ]
        },
        {
          "output_type": "display_data",
          "data": {
            "text/plain": [
              "<Figure size 432x288 with 1 Axes>"
            ],
            "image/png": "[encoded data removed]"
          },
          "metadata": {
            "needs_background": "light"
          }
        }
      ],
      "source": [
        "for col in num_cols:\n",
        "    num_summary(df, col, plot=True)"
      ]
    },
    {
      "cell_type": "code",
      "execution_count": 71,
      "id": "12afb0ae",
      "metadata": {
        "id": "12afb0ae"
      },
      "outputs": [],
      "source": [
        "def target_summary_with_num(dataframe, target, numerical_col):\n",
        "    print(dataframe.groupby(target).agg({numerical_col: \"mean\"}), end=\"\\n\\n\\n\")"
      ]
    },
    {
      "cell_type": "code",
      "execution_count": 72,
      "id": "1372d8a4",
      "metadata": {
        "colab": {
          "base_uri": "https://localhost:8080/"
        },
        "id": "1372d8a4",
        "outputId": "25b1f531-e9b1-499a-d3f3-f63ca2e094d9"
      },
      "outputs": [
        {
          "output_type": "stream",
          "name": "stdout",
          "text": [
            "         Pregnancies\n",
            "Outcome             \n",
            "0              3.298\n",
            "1              4.866\n",
            "\n",
            "\n",
            "         Glucose\n",
            "Outcome         \n",
            "0        109.980\n",
            "1        141.257\n",
            "\n",
            "\n",
            "         BloodPressure\n",
            "Outcome               \n",
            "0               68.184\n",
            "1               70.825\n",
            "\n",
            "\n",
            "         SkinThickness\n",
            "Outcome               \n",
            "0               19.664\n",
            "1               22.164\n",
            "\n",
            "\n",
            "         Insulin\n",
            "Outcome         \n",
            "0         68.792\n",
            "1        100.336\n",
            "\n",
            "\n",
            "           BMI\n",
            "Outcome       \n",
            "0       30.304\n",
            "1       35.143\n",
            "\n",
            "\n",
            "         DiabetesPedigreeFunction\n",
            "Outcome                          \n",
            "0                           0.430\n",
            "1                           0.550\n",
            "\n",
            "\n",
            "           Age\n",
            "Outcome       \n",
            "0       31.190\n",
            "1       37.067\n",
            "\n",
            "\n"
          ]
        }
      ],
      "source": [
        "for col in num_cols:\n",
        "    target_summary_with_num(df, \"Outcome\", col)"
      ]
    },
    {
      "cell_type": "code",
      "execution_count": 73,
      "id": "d020db40",
      "metadata": {
        "colab": {
          "base_uri": "https://localhost:8080/",
          "height": 332
        },
        "id": "d020db40",
        "outputId": "e161f59d-f297-473e-b1d5-cf0fc908e0f3"
      },
      "outputs": [
        {
          "output_type": "execute_result",
          "data": {
            "text/plain": [
              "                          Pregnancies  Glucose  BloodPressure  SkinThickness  Insulin   BMI  DiabetesPedigreeFunction    Age  Outcome\n",
              "Pregnancies                     1.000    0.129          0.141         -0.082   -0.074 0.018                    -0.034  0.544    0.222\n",
              "Glucose                         0.129    1.000          0.153          0.057    0.331 0.221                     0.137  0.264    0.467\n",
              "BloodPressure                   0.141    0.153          1.000          0.207    0.089 0.282                     0.041  0.240    0.065\n",
              "SkinThickness                  -0.082    0.057          0.207          1.000    0.437 0.393                     0.184 -0.114    0.075\n",
              "Insulin                        -0.074    0.331          0.089          0.437    1.000 0.198                     0.185 -0.042    0.131\n",
              "BMI                             0.018    0.221          0.282          0.393    0.198 1.000                     0.141  0.036    0.293\n",
              "DiabetesPedigreeFunction       -0.034    0.137          0.041          0.184    0.185 0.141                     1.000  0.034    0.174\n",
              "Age                             0.544    0.264          0.240         -0.114   -0.042 0.036                     0.034  1.000    0.238\n",
              "Outcome                         0.222    0.467          0.065          0.075    0.131 0.293                     0.174  0.238    1.000"
            ],
            "text/html": [
              "\n",
              "  <div id=\"df-6cd8dd2e-acdd-4adc-bada-be4da3646e1c\">\n",
              "    <div class=\"colab-df-container\">\n",
              "      <div>\n",
              "<style scoped>\n",
              "    .dataframe tbody tr th:only-of-type {\n",
              "        vertical-align: middle;\n",
              "    }\n",
              "\n",
              "    .dataframe tbody tr th {\n",
              "        vertical-align: top;\n",
              "    }\n",
              "\n",
              "    .dataframe thead th {\n",
              "        text-align: right;\n",
              "    }\n",
              "</style>\n",
              "<table border=\"1\" class=\"dataframe\">\n",
              "  <thead>\n",
              "    <tr style=\"text-align: right;\">\n",
              "      <th></th>\n",
              "      <th>Pregnancies</th>\n",
              "      <th>Glucose</th>\n",
              "      <th>BloodPressure</th>\n",
              "      <th>SkinThickness</th>\n",
              "      <th>Insulin</th>\n",
              "      <th>BMI</th>\n",
              "      <th>DiabetesPedigreeFunction</th>\n",
              "      <th>Age</th>\n",
              "      <th>Outcome</th>\n",
              "    </tr>\n",
              "  </thead>\n",
              "  <tbody>\n",
              "    <tr>\n",
              "      <th>Pregnancies</th>\n",
              "      <td>1.000</td>\n",
              "      <td>0.129</td>\n",
              "      <td>0.141</td>\n",
              "      <td>-0.082</td>\n",
              "      <td>-0.074</td>\n",
              "      <td>0.018</td>\n",
              "      <td>-0.034</td>\n",
              "      <td>0.544</td>\n",
              "      <td>0.222</td>\n",
              "    </tr>\n",
              "    <tr>\n",
              "      <th>Glucose</th>\n",
              "      <td>0.129</td>\n",
              "      <td>1.000</td>\n",
              "      <td>0.153</td>\n",
              "      <td>0.057</td>\n",
              "      <td>0.331</td>\n",
              "      <td>0.221</td>\n",
              "      <td>0.137</td>\n",
              "      <td>0.264</td>\n",
              "      <td>0.467</td>\n",
              "    </tr>\n",
              "    <tr>\n",
              "      <th>BloodPressure</th>\n",
              "      <td>0.141</td>\n",
              "      <td>0.153</td>\n",
              "      <td>1.000</td>\n",
              "      <td>0.207</td>\n",
              "      <td>0.089</td>\n",
              "      <td>0.282</td>\n",
              "      <td>0.041</td>\n",
              "      <td>0.240</td>\n",
              "      <td>0.065</td>\n",
              "    </tr>\n",
              "    <tr>\n",
              "      <th>SkinThickness</th>\n",
              "      <td>-0.082</td>\n",
              "      <td>0.057</td>\n",
              "      <td>0.207</td>\n",
              "      <td>1.000</td>\n",
              "      <td>0.437</td>\n",
              "      <td>0.393</td>\n",
              "      <td>0.184</td>\n",
              "      <td>-0.114</td>\n",
              "      <td>0.075</td>\n",
              "    </tr>\n",
              "    <tr>\n",
              "      <th>Insulin</th>\n",
              "      <td>-0.074</td>\n",
              "      <td>0.331</td>\n",
              "      <td>0.089</td>\n",
              "      <td>0.437</td>\n",
              "      <td>1.000</td>\n",
              "      <td>0.198</td>\n",
              "      <td>0.185</td>\n",
              "      <td>-0.042</td>\n",
              "      <td>0.131</td>\n",
              "    </tr>\n",
              "    <tr>\n",
              "      <th>BMI</th>\n",
              "      <td>0.018</td>\n",
              "      <td>0.221</td>\n",
              "      <td>0.282</td>\n",
              "      <td>0.393</td>\n",
              "      <td>0.198</td>\n",
              "      <td>1.000</td>\n",
              "      <td>0.141</td>\n",
              "      <td>0.036</td>\n",
              "      <td>0.293</td>\n",
              "    </tr>\n",
              "    <tr>\n",
              "      <th>DiabetesPedigreeFunction</th>\n",
              "      <td>-0.034</td>\n",
              "      <td>0.137</td>\n",
              "      <td>0.041</td>\n",
              "      <td>0.184</td>\n",
              "      <td>0.185</td>\n",
              "      <td>0.141</td>\n",
              "      <td>1.000</td>\n",
              "      <td>0.034</td>\n",
              "      <td>0.174</td>\n",
              "    </tr>\n",
              "    <tr>\n",
              "      <th>Age</th>\n",
              "      <td>0.544</td>\n",
              "      <td>0.264</td>\n",
              "      <td>0.240</td>\n",
              "      <td>-0.114</td>\n",
              "      <td>-0.042</td>\n",
              "      <td>0.036</td>\n",
              "      <td>0.034</td>\n",
              "      <td>1.000</td>\n",
              "      <td>0.238</td>\n",
              "    </tr>\n",
              "    <tr>\n",
              "      <th>Outcome</th>\n",
              "      <td>0.222</td>\n",
              "      <td>0.467</td>\n",
              "      <td>0.065</td>\n",
              "      <td>0.075</td>\n",
              "      <td>0.131</td>\n",
              "      <td>0.293</td>\n",
              "      <td>0.174</td>\n",
              "      <td>0.238</td>\n",
              "      <td>1.000</td>\n",
              "    </tr>\n",
              "  </tbody>\n",
              "</table>\n",
              "</div>\n",
              "      <button class=\"colab-df-convert\" onclick=\"convertToInteractive('df-6cd8dd2e-acdd-4adc-bada-be4da3646e1c')\"\n",
              "              title=\"Convert this dataframe to an interactive table.\"\n",
              "              style=\"display:none;\">\n",
              "        \n",
              "  <svg xmlns=\"http://www.w3.org/2000/svg\" height=\"24px\"viewBox=\"0 0 24 24\"\n",
              "       width=\"24px\">\n",
              "    <path d=\"M0 0h24v24H0V0z\" fill=\"none\"/>\n",
              "    <path d=\"M18.56 5.44l.94 2.06.94-2.06 2.06-.94-2.06-.94-.94-2.06-.94 2.06-2.06.94zm-11 1L8.5 8.5l.94-2.06 2.06-.94-2.06-.94L8.5 2.5l-.94 2.06-2.06.94zm10 10l.94 2.06.94-2.06 2.06-.94-2.06-.94-.94-2.06-.94 2.06-2.06.94z\"/><path d=\"M17.41 7.96l-1.37-1.37c-.4-.4-.92-.59-1.43-.59-.52 0-1.04.2-1.43.59L10.3 9.45l-7.72 7.72c-.78.78-.78 2.05 0 2.83L4 21.41c.39.39.9.59 1.41.59.51 0 1.02-.2 1.41-.59l7.78-7.78 2.81-2.81c.8-.78.8-2.07 0-2.86zM5.41 20L4 18.59l7.72-7.72 1.47 1.35L5.41 20z\"/>\n",
              "  </svg>\n",
              "      </button>\n",
              "      \n",
              "  <style>\n",
              "    .colab-df-container {\n",
              "      display:flex;\n",
              "      flex-wrap:wrap;\n",
              "      gap: 12px;\n",
              "    }\n",
              "\n",
              "    .colab-df-convert {\n",
              "      background-color: #E8F0FE;\n",
              "      border: none;\n",
              "      border-radius: 50%;\n",
              "      cursor: pointer;\n",
              "      display: none;\n",
              "      fill: #1967D2;\n",
              "      height: 32px;\n",
              "      padding: 0 0 0 0;\n",
              "      width: 32px;\n",
              "    }\n",
              "\n",
              "    .colab-df-convert:hover {\n",
              "      background-color: #E2EBFA;\n",
              "      box-shadow: 0px 1px 2px rgba(60, 64, 67, 0.3), 0px 1px 3px 1px rgba(60, 64, 67, 0.15);\n",
              "      fill: #174EA6;\n",
              "    }\n",
              "\n",
              "    [theme=dark] .colab-df-convert {\n",
              "      background-color: #3B4455;\n",
              "      fill: #D2E3FC;\n",
              "    }\n",
              "\n",
              "    [theme=dark] .colab-df-convert:hover {\n",
              "      background-color: #434B5C;\n",
              "      box-shadow: 0px 1px 3px 1px rgba(0, 0, 0, 0.15);\n",
              "      filter: drop-shadow(0px 1px 2px rgba(0, 0, 0, 0.3));\n",
              "      fill: #FFFFFF;\n",
              "    }\n",
              "  </style>\n",
              "\n",
              "      <script>\n",
              "        const buttonEl =\n",
              "          document.querySelector('#df-6cd8dd2e-acdd-4adc-bada-be4da3646e1c button.colab-df-convert');\n",
              "        buttonEl.style.display =\n",
              "          google.colab.kernel.accessAllowed ? 'block' : 'none';\n",
              "\n",
              "        async function convertToInteractive(key) {\n",
              "          const element = document.querySelector('#df-6cd8dd2e-acdd-4adc-bada-be4da3646e1c');\n",
              "          const dataTable =\n",
              "            await google.colab.kernel.invokeFunction('convertToInteractive',\n",
              "                                                     [key], {});\n",
              "          if (!dataTable) return;\n",
              "\n",
              "          const docLinkHtml = 'Like what you see? Visit the ' +\n",
              "            '<a target=\"_blank\" href=https://colab.research.google.com/notebooks/data_table.ipynb>data table notebook</a>'\n",
              "            + ' to learn more about interactive tables.';\n",
              "          element.innerHTML = '';\n",
              "          dataTable['output_type'] = 'display_data';\n",
              "          await google.colab.output.renderOutput(dataTable, element);\n",
              "          const docLink = document.createElement('div');\n",
              "          docLink.innerHTML = docLinkHtml;\n",
              "          element.appendChild(docLink);\n",
              "        }\n",
              "      </script>\n",
              "    </div>\n",
              "  </div>\n",
              "  "
            ]
          },
          "metadata": {},
          "execution_count": 73
        }
      ],
      "source": [
        "df.corr()"
      ]
    },
    {
      "cell_type": "code",
      "execution_count": 74,
      "id": "683f6267",
      "metadata": {
        "colab": {
          "base_uri": "https://localhost:8080/",
          "height": 776
        },
        "id": "683f6267",
        "outputId": "168f7cec-0b4a-4cb1-9040-79c0206d3eb7"
      },
      "outputs": [
        {
          "output_type": "display_data",
          "data": {
            "text/plain": [
              "<Figure size 1296x936 with 2 Axes>"
            ],
            "image/png": "[encoded data removed]"
          },
          "metadata": {
            "needs_background": "light"
          }
        }
      ],
      "source": [
        "f, ax = plt.subplots(figsize=[18, 13])\n",
        "sns.heatmap(df.corr(), annot=True, fmt=\".2f\", ax=ax, cmap=\"magma\")\n",
        "ax.set_title(\"Correlation Matrix\", fontsize=20)\n",
        "plt.show()"
      ]
    },
    {
      "cell_type": "code",
      "execution_count": 82,
      "id": "fae31200",
      "metadata": {
        "colab": {
          "base_uri": "https://localhost:8080/"
        },
        "id": "fae31200",
        "outputId": "38484932-df08-4220-f19e-eca5a90daad6"
      },
      "outputs": [
        {
          "output_type": "stream",
          "name": "stdout",
          "text": [
            "Accuracy: 0.77\n",
            "Recall: 0.706\n",
            "Precision: 0.59\n",
            "F1: 0.64\n",
            "Auc: 0.75\n"
          ]
        }
      ],
      "source": [
        "y = df[\"Outcome\"]\n",
        "X = df.drop(\"Outcome\", axis=1)\n",
        "X_train, X_test, y_train, y_test = train_test_split(X, y, test_size=0.30, random_state=17)\n",
        "rf_model = RandomForestClassifier(random_state=46).fit(X_train, y_train)\n",
        "y_pred = rf_model.predict(X_test)\n",
        "print(f\"Accuracy: {round(accuracy_score(y_pred, y_test), 2)}\")\n",
        "print(f\"Recall: {round(recall_score(y_pred, y_test), 3)}\")\n",
        "print(f\"Precision: {round(precision_score(y_pred, y_test), 2)}\")\n",
        "print(f\"F1: {round(f1_score(y_pred, y_test), 2)}\")\n",
        "print(f\"Auc: {round(roc_auc_score(y_pred, y_test), 2)}\")"
      ]
    },
    {
      "cell_type": "code",
      "execution_count": 90,
      "id": "e359ebdc",
      "metadata": {
        "colab": {
          "base_uri": "https://localhost:8080/",
          "height": 725
        },
        "id": "e359ebdc",
        "outputId": "11cb46af-76f0-497b-fe82-e60359ee0ea0"
      },
      "outputs": [
        {
          "output_type": "display_data",
          "data": {
            "text/plain": [
              "<Figure size 720x720 with 1 Axes>"
            ],
            "image/png": "[encoded data removed]"
          },
          "metadata": {}
        }
      ],
      "source": [
        "def plot_importance(model, features, num=len(X), save=False):\n",
        "    feature_imp = pd.DataFrame({'Value': model.feature_importances_, 'Feature': features.columns})\n",
        "    plt.figure(figsize=(10, 10))\n",
        "    sns.set(font_scale=1)\n",
        "    sns.barplot(x=\"Value\", y=\"Feature\", data=feature_imp.sort_values(by=\"Value\",\n",
        "                                                                     ascending=False)[0:num])\n",
        "    plt.title('Features')\n",
        "    plt.tight_layout()\n",
        "    plt.show()\n",
        "    if save:\n",
        "        plt.savefig('importances.png')\n",
        "plot_importance(rf_model, X)\n",
        "\n"
      ]
    },
    {
      "cell_type": "markdown",
      "id": "70bb7e2d",
      "metadata": {
        "id": "70bb7e2d"
      },
      "source": [
        "### GÖREV 2: FEATURE ENGINEERING"
      ]
    },
    {
      "cell_type": "markdown",
      "source": [
        "MISSING VALUE ANALYSIS\n",
        "\n",
        "\n",
        "* It is known that variable values other than Pregnancies and Outcome cannot be 0 in a human.\n",
        "* Therefore, an action decision should be taken regarding these values. Values that are 0 can be assigned NaN."
      ],
      "metadata": {
        "id": "qvTRNGYiFP-W"
      },
      "id": "qvTRNGYiFP-W"
    },
    {
      "cell_type": "code",
      "execution_count": 93,
      "id": "6df8dd48",
      "metadata": {
        "colab": {
          "base_uri": "https://localhost:8080/"
        },
        "id": "6df8dd48",
        "outputId": "7d72a591-e21e-4ea4-fd4a-5295249d05ec"
      },
      "outputs": [
        {
          "output_type": "execute_result",
          "data": {
            "text/plain": [
              "['Glucose', 'BloodPressure', 'SkinThickness', 'Insulin', 'BMI']"
            ]
          },
          "metadata": {},
          "execution_count": 93
        }
      ],
      "source": [
        "zero_columns = [col for col in df.columns if (df[col].min() == 0 and col not in [\"Pregnancies\", \"Outcome\"])]\n",
        "zero_columns"
      ]
    },
    {
      "cell_type": "code",
      "execution_count": 94,
      "id": "94997e3d",
      "metadata": {
        "id": "94997e3d"
      },
      "outputs": [],
      "source": [
        "for col in zero_columns:\n",
        "    df[col] = np.where(df[col] == 0, np.nan, df[col])"
      ]
    },
    {
      "cell_type": "code",
      "execution_count": 96,
      "id": "ebc9f048",
      "metadata": {
        "colab": {
          "base_uri": "https://localhost:8080/"
        },
        "id": "ebc9f048",
        "outputId": "eedfd70c-b83a-4bd5-8010-072565323160"
      },
      "outputs": [
        {
          "output_type": "execute_result",
          "data": {
            "text/plain": [
              "Pregnancies                   0\n",
              "Glucose                       5\n",
              "BloodPressure                35\n",
              "SkinThickness               227\n",
              "Insulin                     374\n",
              "BMI                          11\n",
              "DiabetesPedigreeFunction      0\n",
              "Age                           0\n",
              "Outcome                       0\n",
              "dtype: int64"
            ]
          },
          "metadata": {},
          "execution_count": 96
        }
      ],
      "source": [
        "df.isnull().sum()"
      ]
    },
    {
      "cell_type": "code",
      "execution_count": 100,
      "id": "d8ae9be7",
      "metadata": {
        "colab": {
          "base_uri": "https://localhost:8080/"
        },
        "id": "d8ae9be7",
        "outputId": "5c35014b-8017-484b-87c2-c74fed197aa5"
      },
      "outputs": [
        {
          "output_type": "stream",
          "name": "stdout",
          "text": [
            "               n_miss  ratio\n",
            "Insulin           374 48.700\n",
            "SkinThickness     227 29.560\n",
            "BloodPressure      35  4.560\n",
            "BMI                11  1.430\n",
            "Glucose             5  0.650\n"
          ]
        }
      ],
      "source": [
        "def missing_values_table(dataframe, na_name=False):\n",
        "    na_columns = [col for col in dataframe.columns if dataframe[col].isnull().sum() > 0]\n",
        "    n_miss = dataframe[na_columns].isnull().sum().sort_values(ascending=False)\n",
        "    ratio = (dataframe[na_columns].isnull().sum() / dataframe.shape[0] * 100).sort_values(ascending=False)\n",
        "    missing_df = pd.concat([n_miss, np.round(ratio, 2)], axis=1, keys=['n_miss', 'ratio'])\n",
        "    print(missing_df, end=\"\\n\")\n",
        "    if na_name:\n",
        "        return na_columns\n",
        "na_columns = missing_values_table(df, na_name=True)"
      ]
    },
    {
      "cell_type": "code",
      "execution_count": 102,
      "id": "d27175e0",
      "metadata": {
        "colab": {
          "base_uri": "https://localhost:8080/"
        },
        "id": "d27175e0",
        "outputId": "e4b01b3c-7e3b-457e-dc17-bbd54895d5dd"
      },
      "outputs": [
        {
          "output_type": "stream",
          "name": "stdout",
          "text": [
            "                 TARGET_MEAN  Count\n",
            "Glucose_NA_FLAG                    \n",
            "0                      0.349    763\n",
            "1                      0.400      5\n",
            "\n",
            "\n",
            "                       TARGET_MEAN  Count\n",
            "BloodPressure_NA_FLAG                    \n",
            "0                            0.344    733\n",
            "1                            0.457     35\n",
            "\n",
            "\n",
            "                       TARGET_MEAN  Count\n",
            "SkinThickness_NA_FLAG                    \n",
            "0                            0.333    541\n",
            "1                            0.388    227\n",
            "\n",
            "\n",
            "                 TARGET_MEAN  Count\n",
            "Insulin_NA_FLAG                    \n",
            "0                      0.330    394\n",
            "1                      0.369    374\n",
            "\n",
            "\n",
            "             TARGET_MEAN  Count\n",
            "BMI_NA_FLAG                    \n",
            "0                  0.351    757\n",
            "1                  0.182     11\n",
            "\n",
            "\n"
          ]
        }
      ],
      "source": [
        "def missing_vs_target(dataframe, target, na_columns):\n",
        "    temp_df = dataframe.copy()\n",
        "    for col in na_columns:\n",
        "        temp_df[col + '_NA_FLAG'] = np.where(temp_df[col].isnull(), 1, 0)\n",
        "    na_flags = temp_df.loc[:, temp_df.columns.str.contains(\"_NA_\")].columns\n",
        "    for col in na_flags:\n",
        "        print(pd.DataFrame({\"TARGET_MEAN\": temp_df.groupby(col)[target].mean(),\n",
        "                            \"Count\": temp_df.groupby(col)[target].count()}), end=\"\\n\\n\\n\")\n",
        "missing_vs_target(df, \"Outcome\", na_columns)"
      ]
    },
    {
      "cell_type": "code",
      "execution_count": 103,
      "id": "401c857b",
      "metadata": {
        "colab": {
          "base_uri": "https://localhost:8080/"
        },
        "id": "401c857b",
        "outputId": "e9b3cec5-27bf-43ad-ba40-c1c4041082ed"
      },
      "outputs": [
        {
          "output_type": "execute_result",
          "data": {
            "text/plain": [
              "Pregnancies                 0\n",
              "Glucose                     0\n",
              "BloodPressure               0\n",
              "SkinThickness               0\n",
              "Insulin                     0\n",
              "BMI                         0\n",
              "DiabetesPedigreeFunction    0\n",
              "Age                         0\n",
              "Outcome                     0\n",
              "dtype: int64"
            ]
          },
          "metadata": {},
          "execution_count": 103
        }
      ],
      "source": [
        "for col in zero_columns:\n",
        "    df.loc[df[col].isnull(), col] = df[col].median()\n",
        "\n",
        "df.isnull().sum()"
      ]
    },
    {
      "cell_type": "code",
      "execution_count": 106,
      "id": "bfadaf11",
      "metadata": {
        "id": "bfadaf11"
      },
      "outputs": [],
      "source": [
        "# Outlier Analysis\n",
        "def outlier_thresholds(dataframe, col_name, q1=0.05, q3=0.95):\n",
        "    quartile1 = dataframe[col_name].quantile(q1)\n",
        "    quartile3 = dataframe[col_name].quantile(q3)\n",
        "    interquantile_range = quartile3 - quartile1\n",
        "    up_limit = quartile3 + 1.5 * interquantile_range\n",
        "    low_limit = quartile1 - 1.5 * interquantile_range\n",
        "    return low_limit, up_limit\n",
        "\n",
        "\n",
        "def check_outlier(dataframe, col_name):\n",
        "    low_limit, up_limit = outlier_thresholds(dataframe, col_name)\n",
        "    if dataframe[(dataframe[col_name] > up_limit) | (dataframe[col_name] < low_limit)].any(axis=None):\n",
        "        return True\n",
        "    else:\n",
        "        return False\n",
        "    \n",
        "    \n",
        "def replace_with_thresholds(dataframe, variable, q1=0.05, q3=0.95):\n",
        "    low_limit, up_limit = outlier_thresholds(dataframe, variable, q1=0.05, q3=0.95)\n",
        "    dataframe.loc[(dataframe[variable] < low_limit), variable] = low_limit\n",
        "    dataframe.loc[(dataframe[variable] > up_limit), variable] = up_limit\n"
      ]
    },
    {
      "cell_type": "code",
      "execution_count": 107,
      "id": "8c6bbe7d",
      "metadata": {
        "colab": {
          "base_uri": "https://localhost:8080/"
        },
        "id": "8c6bbe7d",
        "outputId": "9b925f5e-752d-47c9-b7f8-f0f6b529adba"
      },
      "outputs": [
        {
          "output_type": "stream",
          "name": "stdout",
          "text": [
            "Pregnancies False\n",
            "Glucose False\n",
            "BloodPressure False\n",
            "SkinThickness True\n",
            "Insulin True\n",
            "BMI False\n",
            "DiabetesPedigreeFunction False\n",
            "Age False\n",
            "Outcome False\n"
          ]
        }
      ],
      "source": [
        "# Outlier Analysis and Suppression Process\n",
        "for col in df.columns:\n",
        "    print(col, check_outlier(df, col))\n",
        "    if check_outlier(df, col):\n",
        "        replace_with_thresholds(df, col)\n"
      ]
    },
    {
      "cell_type": "code",
      "execution_count": 108,
      "id": "f90e3c50",
      "metadata": {
        "colab": {
          "base_uri": "https://localhost:8080/"
        },
        "id": "f90e3c50",
        "outputId": "75c2385d-9aa8-4d7f-80a7-72d2b3aa0aa9"
      },
      "outputs": [
        {
          "output_type": "stream",
          "name": "stdout",
          "text": [
            "Pregnancies False\n",
            "Glucose False\n",
            "BloodPressure False\n",
            "SkinThickness False\n",
            "Insulin False\n",
            "BMI False\n",
            "DiabetesPedigreeFunction False\n",
            "Age False\n",
            "Outcome False\n",
            "Pregnancies False\n",
            "Glucose False\n",
            "BloodPressure False\n",
            "SkinThickness False\n",
            "Insulin False\n",
            "BMI False\n",
            "DiabetesPedigreeFunction False\n",
            "Age False\n",
            "Outcome False\n"
          ]
        }
      ],
      "source": [
        "for col in df.columns:\n",
        "    print(col, check_outlier(df, col))\n",
        "    if check_outlier(df, col):\n",
        "        replace_with_thresholds(df, col)\n",
        "\n",
        "for col in df.columns:\n",
        "    print(col, check_outlier(df, col))"
      ]
    },
    {
      "cell_type": "markdown",
      "source": [
        "### FEATURE INFERENCE"
      ],
      "metadata": {
        "id": "dQXlJK4mF3-8"
      },
      "id": "dQXlJK4mF3-8"
    },
    {
      "cell_type": "code",
      "execution_count": 111,
      "id": "268f6119",
      "metadata": {
        "id": "268f6119"
      },
      "outputs": [],
      "source": [
        "# Creating a new age variable by categorizing the age variable\n",
        "df.loc[(df[\"Age\"] >= 21) & (df[\"Age\"] < 50), \"NEW_AGE_CAT\"] = \"mature\"\n",
        "df.loc[(df[\"Age\"] >= 50), \"NEW_AGE_CAT\"] = \"senior\"\n",
        "\n",
        "\n",
        "# BMI below 18.5 is underweight, between 18.5 and 24.9 is normal, between 24.9 and 29.9 is overweight and over 30 is obese\n",
        "df['NEW_BMI'] = pd.cut(x=df['BMI'], bins=[0, 18.5, 24.9, 29.9, 100],\n",
        "                       labels=[\"Underweight\", \"Healthy\", \"Overweight\", \"Obese\"])\n",
        "\n",
        "\n",
        "# Convert glucose value to categorical variable\n",
        "df[\"NEW_GLUCOSE\"] = pd.cut(x=df[\"Glucose\"], bins=[0, 140, 200, 300], labels=[\"Normal\", \"Prediabetes\", \"Diabetes\"])"
      ]
    },
    {
      "cell_type": "code",
      "execution_count": 112,
      "id": "b362e564",
      "metadata": {
        "id": "b362e564"
      },
      "outputs": [],
      "source": [
        "# Creating a categorical variable by considering age and body mass index together\n",
        "\n",
        "df.loc[(df[\"BMI\"] < 18.5) & ((df[\"Age\"] >= 21) & (df[\"Age\"] < 50)), \"NEW_AGE_BMI_NOM\"] = \"underweightmature\"\n",
        "df.loc[(df[\"BMI\"] < 18.5) & (df[\"Age\"] >= 50), \"NEW_AGE_BMI_NOM\"] = \"underweightsenior\"\n",
        "df.loc[((df[\"BMI\"] >= 18.5) & (df[\"BMI\"] < 25)) & (\n",
        "        (df[\"Age\"] >= 21) & (df[\"Age\"] < 50)), \"NEW_AGE_BMI_NOM\"] = \"healthymature\"\n",
        "df.loc[((df[\"BMI\"] >= 18.5) & (df[\"BMI\"] < 25)) & (df[\"Age\"] >= 50), \"NEW_AGE_BMI_NOM\"] = \"healthysenior\"\n",
        "df.loc[((df[\"BMI\"] >= 25) & (df[\"BMI\"] < 30)) & (\n",
        "        (df[\"Age\"] >= 21) & (df[\"Age\"] < 50)), \"NEW_AGE_BMI_NOM\"] = \"overweightmature\"\n",
        "df.loc[((df[\"BMI\"] >= 25) & (df[\"BMI\"] < 30)) & (df[\"Age\"] >= 50), \"NEW_AGE_BMI_NOM\"] = \"overweightsenior\"\n",
        "df.loc[(df[\"BMI\"] > 18.5) & ((df[\"Age\"] >= 21) & (df[\"Age\"] < 50)), \"NEW_AGE_BMI_NOM\"] = \"obesemature\"\n",
        "df.loc[(df[\"BMI\"] > 18.5) & (df[\"Age\"] >= 50), \"NEW_AGE_BMI_NOM\"] = \"obesesenior\""
      ]
    },
    {
      "cell_type": "code",
      "execution_count": 113,
      "id": "f6d2478e",
      "metadata": {
        "id": "f6d2478e"
      },
      "outputs": [],
      "source": [
        "# Creating a categorical variable by considering age and glucose values together\n",
        "\n",
        "df.loc[(df[\"Glucose\"] < 70) & ((df[\"Age\"] >= 21) & (df[\"Age\"] < 50)), \"NEW_AGE_GLUCOSE_NOM\"] = \"lowmature\"\n",
        "df.loc[(df[\"Glucose\"] < 70) & (df[\"Age\"] >= 50), \"NEW_AGE_GLUCOSE_NOM\"] = \"lowsenior\"\n",
        "df.loc[((df[\"Glucose\"] >= 70) & (df[\"Glucose\"] < 100)) & (\n",
        "        (df[\"Age\"] >= 21) & (df[\"Age\"] < 50)), \"NEW_AGE_GLUCOSE_NOM\"] = \"normalmature\"\n",
        "df.loc[((df[\"Glucose\"] >= 70) & (df[\"Glucose\"] < 100)) & (df[\"Age\"] >= 50), \"NEW_AGE_GLUCOSE_NOM\"] = \"normalsenior\"\n",
        "df.loc[((df[\"Glucose\"] >= 100) & (df[\"Glucose\"] <= 125)) & (\n",
        "        (df[\"Age\"] >= 21) & (df[\"Age\"] < 50)), \"NEW_AGE_GLUCOSE_NOM\"] = \"hiddenmature\"\n",
        "df.loc[((df[\"Glucose\"] >= 100) & (df[\"Glucose\"] <= 125)) & (df[\"Age\"] >= 50), \"NEW_AGE_GLUCOSE_NOM\"] = \"hiddensenior\"\n",
        "df.loc[(df[\"Glucose\"] > 125) & ((df[\"Age\"] >= 21) & (df[\"Age\"] < 50)), \"NEW_AGE_GLUCOSE_NOM\"] = \"highmature\"\n",
        "df.loc[(df[\"Glucose\"] > 125) & (df[\"Age\"] >= 50), \"NEW_AGE_GLUCOSE_NOM\"] = \"highsenior\"\n"
      ]
    },
    {
      "cell_type": "code",
      "execution_count": 114,
      "id": "de435e7e",
      "metadata": {
        "id": "de435e7e"
      },
      "outputs": [],
      "source": [
        "# Derive Categorical Variable with Insulin Value\n",
        "def set_insulin(dataframe, col_name=\"Insulin\"):\n",
        "    if 16 <= dataframe[col_name] <= 166:\n",
        "        return \"Normal\"\n",
        "    else:\n",
        "        return \"Abnormal\""
      ]
    },
    {
      "cell_type": "code",
      "execution_count": 115,
      "id": "87ca9907",
      "metadata": {
        "id": "87ca9907"
      },
      "outputs": [],
      "source": [
        "df[\"NEW_INSULIN_SCORE\"] = df.apply(set_insulin, axis=1)\n",
        "df[\"NEW_GLUCOSE*INSULIN\"] = df[\"Glucose\"] * df[\"Insulin\"]\n",
        "df[\"NEW_GLUCOSE*PREGNANCIES\"] = df[\"Glucose\"] * df[\"Pregnancies\"]"
      ]
    },
    {
      "cell_type": "code",
      "execution_count": 116,
      "id": "c9ffa98e",
      "metadata": {
        "id": "c9ffa98e"
      },
      "outputs": [],
      "source": [
        "df.columns = [col.upper() for col in df.columns]"
      ]
    },
    {
      "cell_type": "code",
      "execution_count": 117,
      "id": "07bed5be",
      "metadata": {
        "colab": {
          "base_uri": "https://localhost:8080/",
          "height": 270
        },
        "id": "07bed5be",
        "outputId": "6c692151-50f2-4209-b079-5266b401d347"
      },
      "outputs": [
        {
          "output_type": "execute_result",
          "data": {
            "text/plain": [
              "   PREGNANCIES  GLUCOSE  BLOODPRESSURE  SKINTHICKNESS  INSULIN    BMI  DIABETESPEDIGREEFUNCTION  AGE  OUTCOME NEW_AGE_CAT     NEW_BMI  NEW_GLUCOSE NEW_AGE_BMI_NOM  \\\n",
              "0            6  148.000         72.000         35.000  125.000 33.600                     0.627   50        1      senior       Obese  Prediabetes     obesesenior   \n",
              "1            1   85.000         66.000         29.000  125.000 26.600                     0.351   31        0      mature  Overweight       Normal     obesemature   \n",
              "2            8  183.000         64.000         29.000  125.000 23.300                     0.672   32        1      mature     Healthy  Prediabetes     obesemature   \n",
              "3            1   89.000         66.000         23.000   94.000 28.100                     0.167   21        0      mature  Overweight       Normal     obesemature   \n",
              "4            0  137.000         40.000         35.000  168.000 43.100                     2.288   33        1      mature       Obese       Normal     obesemature   \n",
              "\n",
              "  NEW_AGE_GLUCOSE_NOM NEW_INSULIN_SCORE  NEW_GLUCOSE*INSULIN  NEW_GLUCOSE*PREGNANCIES  \n",
              "0          highsenior            Normal            18500.000                  888.000  \n",
              "1        normalmature            Normal            10625.000                   85.000  \n",
              "2          highmature            Normal            22875.000                 1464.000  \n",
              "3        normalmature            Normal             8366.000                   89.000  \n",
              "4          highmature          Abnormal            23016.000                    0.000  "
            ],
            "text/html": [
              "\n",
              "  <div id=\"df-9084efeb-ab90-4464-ba2d-a1fb99abd56a\">\n",
              "    <div class=\"colab-df-container\">\n",
              "      <div>\n",
              "<style scoped>\n",
              "    .dataframe tbody tr th:only-of-type {\n",
              "        vertical-align: middle;\n",
              "    }\n",
              "\n",
              "    .dataframe tbody tr th {\n",
              "        vertical-align: top;\n",
              "    }\n",
              "\n",
              "    .dataframe thead th {\n",
              "        text-align: right;\n",
              "    }\n",
              "</style>\n",
              "<table border=\"1\" class=\"dataframe\">\n",
              "  <thead>\n",
              "    <tr style=\"text-align: right;\">\n",
              "      <th></th>\n",
              "      <th>PREGNANCIES</th>\n",
              "      <th>GLUCOSE</th>\n",
              "      <th>BLOODPRESSURE</th>\n",
              "      <th>SKINTHICKNESS</th>\n",
              "      <th>INSULIN</th>\n",
              "      <th>BMI</th>\n",
              "      <th>DIABETESPEDIGREEFUNCTION</th>\n",
              "      <th>AGE</th>\n",
              "      <th>OUTCOME</th>\n",
              "      <th>NEW_AGE_CAT</th>\n",
              "      <th>NEW_BMI</th>\n",
              "      <th>NEW_GLUCOSE</th>\n",
              "      <th>NEW_AGE_BMI_NOM</th>\n",
              "      <th>NEW_AGE_GLUCOSE_NOM</th>\n",
              "      <th>NEW_INSULIN_SCORE</th>\n",
              "      <th>NEW_GLUCOSE*INSULIN</th>\n",
              "      <th>NEW_GLUCOSE*PREGNANCIES</th>\n",
              "    </tr>\n",
              "  </thead>\n",
              "  <tbody>\n",
              "    <tr>\n",
              "      <th>0</th>\n",
              "      <td>6</td>\n",
              "      <td>148.000</td>\n",
              "      <td>72.000</td>\n",
              "      <td>35.000</td>\n",
              "      <td>125.000</td>\n",
              "      <td>33.600</td>\n",
              "      <td>0.627</td>\n",
              "      <td>50</td>\n",
              "      <td>1</td>\n",
              "      <td>senior</td>\n",
              "      <td>Obese</td>\n",
              "      <td>Prediabetes</td>\n",
              "      <td>obesesenior</td>\n",
              "      <td>highsenior</td>\n",
              "      <td>Normal</td>\n",
              "      <td>18500.000</td>\n",
              "      <td>888.000</td>\n",
              "    </tr>\n",
              "    <tr>\n",
              "      <th>1</th>\n",
              "      <td>1</td>\n",
              "      <td>85.000</td>\n",
              "      <td>66.000</td>\n",
              "      <td>29.000</td>\n",
              "      <td>125.000</td>\n",
              "      <td>26.600</td>\n",
              "      <td>0.351</td>\n",
              "      <td>31</td>\n",
              "      <td>0</td>\n",
              "      <td>mature</td>\n",
              "      <td>Overweight</td>\n",
              "      <td>Normal</td>\n",
              "      <td>obesemature</td>\n",
              "      <td>normalmature</td>\n",
              "      <td>Normal</td>\n",
              "      <td>10625.000</td>\n",
              "      <td>85.000</td>\n",
              "    </tr>\n",
              "    <tr>\n",
              "      <th>2</th>\n",
              "      <td>8</td>\n",
              "      <td>183.000</td>\n",
              "      <td>64.000</td>\n",
              "      <td>29.000</td>\n",
              "      <td>125.000</td>\n",
              "      <td>23.300</td>\n",
              "      <td>0.672</td>\n",
              "      <td>32</td>\n",
              "      <td>1</td>\n",
              "      <td>mature</td>\n",
              "      <td>Healthy</td>\n",
              "      <td>Prediabetes</td>\n",
              "      <td>obesemature</td>\n",
              "      <td>highmature</td>\n",
              "      <td>Normal</td>\n",
              "      <td>22875.000</td>\n",
              "      <td>1464.000</td>\n",
              "    </tr>\n",
              "    <tr>\n",
              "      <th>3</th>\n",
              "      <td>1</td>\n",
              "      <td>89.000</td>\n",
              "      <td>66.000</td>\n",
              "      <td>23.000</td>\n",
              "      <td>94.000</td>\n",
              "      <td>28.100</td>\n",
              "      <td>0.167</td>\n",
              "      <td>21</td>\n",
              "      <td>0</td>\n",
              "      <td>mature</td>\n",
              "      <td>Overweight</td>\n",
              "      <td>Normal</td>\n",
              "      <td>obesemature</td>\n",
              "      <td>normalmature</td>\n",
              "      <td>Normal</td>\n",
              "      <td>8366.000</td>\n",
              "      <td>89.000</td>\n",
              "    </tr>\n",
              "    <tr>\n",
              "      <th>4</th>\n",
              "      <td>0</td>\n",
              "      <td>137.000</td>\n",
              "      <td>40.000</td>\n",
              "      <td>35.000</td>\n",
              "      <td>168.000</td>\n",
              "      <td>43.100</td>\n",
              "      <td>2.288</td>\n",
              "      <td>33</td>\n",
              "      <td>1</td>\n",
              "      <td>mature</td>\n",
              "      <td>Obese</td>\n",
              "      <td>Normal</td>\n",
              "      <td>obesemature</td>\n",
              "      <td>highmature</td>\n",
              "      <td>Abnormal</td>\n",
              "      <td>23016.000</td>\n",
              "      <td>0.000</td>\n",
              "    </tr>\n",
              "  </tbody>\n",
              "</table>\n",
              "</div>\n",
              "      <button class=\"colab-df-convert\" onclick=\"convertToInteractive('df-9084efeb-ab90-4464-ba2d-a1fb99abd56a')\"\n",
              "              title=\"Convert this dataframe to an interactive table.\"\n",
              "              style=\"display:none;\">\n",
              "        \n",
              "  <svg xmlns=\"http://www.w3.org/2000/svg\" height=\"24px\"viewBox=\"0 0 24 24\"\n",
              "       width=\"24px\">\n",
              "    <path d=\"M0 0h24v24H0V0z\" fill=\"none\"/>\n",
              "    <path d=\"M18.56 5.44l.94 2.06.94-2.06 2.06-.94-2.06-.94-.94-2.06-.94 2.06-2.06.94zm-11 1L8.5 8.5l.94-2.06 2.06-.94-2.06-.94L8.5 2.5l-.94 2.06-2.06.94zm10 10l.94 2.06.94-2.06 2.06-.94-2.06-.94-.94-2.06-.94 2.06-2.06.94z\"/><path d=\"M17.41 7.96l-1.37-1.37c-.4-.4-.92-.59-1.43-.59-.52 0-1.04.2-1.43.59L10.3 9.45l-7.72 7.72c-.78.78-.78 2.05 0 2.83L4 21.41c.39.39.9.59 1.41.59.51 0 1.02-.2 1.41-.59l7.78-7.78 2.81-2.81c.8-.78.8-2.07 0-2.86zM5.41 20L4 18.59l7.72-7.72 1.47 1.35L5.41 20z\"/>\n",
              "  </svg>\n",
              "      </button>\n",
              "      \n",
              "  <style>\n",
              "    .colab-df-container {\n",
              "      display:flex;\n",
              "      flex-wrap:wrap;\n",
              "      gap: 12px;\n",
              "    }\n",
              "\n",
              "    .colab-df-convert {\n",
              "      background-color: #E8F0FE;\n",
              "      border: none;\n",
              "      border-radius: 50%;\n",
              "      cursor: pointer;\n",
              "      display: none;\n",
              "      fill: #1967D2;\n",
              "      height: 32px;\n",
              "      padding: 0 0 0 0;\n",
              "      width: 32px;\n",
              "    }\n",
              "\n",
              "    .colab-df-convert:hover {\n",
              "      background-color: #E2EBFA;\n",
              "      box-shadow: 0px 1px 2px rgba(60, 64, 67, 0.3), 0px 1px 3px 1px rgba(60, 64, 67, 0.15);\n",
              "      fill: #174EA6;\n",
              "    }\n",
              "\n",
              "    [theme=dark] .colab-df-convert {\n",
              "      background-color: #3B4455;\n",
              "      fill: #D2E3FC;\n",
              "    }\n",
              "\n",
              "    [theme=dark] .colab-df-convert:hover {\n",
              "      background-color: #434B5C;\n",
              "      box-shadow: 0px 1px 3px 1px rgba(0, 0, 0, 0.15);\n",
              "      filter: drop-shadow(0px 1px 2px rgba(0, 0, 0, 0.3));\n",
              "      fill: #FFFFFF;\n",
              "    }\n",
              "  </style>\n",
              "\n",
              "      <script>\n",
              "        const buttonEl =\n",
              "          document.querySelector('#df-9084efeb-ab90-4464-ba2d-a1fb99abd56a button.colab-df-convert');\n",
              "        buttonEl.style.display =\n",
              "          google.colab.kernel.accessAllowed ? 'block' : 'none';\n",
              "\n",
              "        async function convertToInteractive(key) {\n",
              "          const element = document.querySelector('#df-9084efeb-ab90-4464-ba2d-a1fb99abd56a');\n",
              "          const dataTable =\n",
              "            await google.colab.kernel.invokeFunction('convertToInteractive',\n",
              "                                                     [key], {});\n",
              "          if (!dataTable) return;\n",
              "\n",
              "          const docLinkHtml = 'Like what you see? Visit the ' +\n",
              "            '<a target=\"_blank\" href=https://colab.research.google.com/notebooks/data_table.ipynb>data table notebook</a>'\n",
              "            + ' to learn more about interactive tables.';\n",
              "          element.innerHTML = '';\n",
              "          dataTable['output_type'] = 'display_data';\n",
              "          await google.colab.output.renderOutput(dataTable, element);\n",
              "          const docLink = document.createElement('div');\n",
              "          docLink.innerHTML = docLinkHtml;\n",
              "          element.appendChild(docLink);\n",
              "        }\n",
              "      </script>\n",
              "    </div>\n",
              "  </div>\n",
              "  "
            ]
          },
          "metadata": {},
          "execution_count": 117
        }
      ],
      "source": [
        "df.head()"
      ]
    },
    {
      "cell_type": "code",
      "execution_count": 118,
      "id": "c1fd209e",
      "metadata": {
        "colab": {
          "base_uri": "https://localhost:8080/"
        },
        "id": "c1fd209e",
        "outputId": "fe944e00-4192-40e0-9407-0a97ca954ebf"
      },
      "outputs": [
        {
          "output_type": "execute_result",
          "data": {
            "text/plain": [
              "(768, 17)"
            ]
          },
          "metadata": {},
          "execution_count": 118
        }
      ],
      "source": [
        "df.shape"
      ]
    },
    {
      "cell_type": "markdown",
      "source": [
        "### ENCODING"
      ],
      "metadata": {
        "id": "i6t-96JXGkOE"
      },
      "id": "i6t-96JXGkOE"
    },
    {
      "cell_type": "code",
      "execution_count": 121,
      "id": "8d4526b9",
      "metadata": {
        "colab": {
          "base_uri": "https://localhost:8080/"
        },
        "id": "8d4526b9",
        "outputId": "f75d54c9-c826-4877-fc94-d5cda7c5496b"
      },
      "outputs": [
        {
          "output_type": "stream",
          "name": "stdout",
          "text": [
            "Observations: 768\n",
            "Variables: 17\n",
            "cat_cols: 7\n",
            "num_cols: 10\n",
            "cat_but_car: 0\n",
            "num_but_cat: 3\n"
          ]
        }
      ],
      "source": [
        "# Separation of variables according to their types\n",
        "cat_cols, num_cols, cat_but_car = grab_col_names(df)\n"
      ]
    },
    {
      "cell_type": "code",
      "execution_count": 122,
      "id": "8a294f98",
      "metadata": {
        "id": "8a294f98"
      },
      "outputs": [],
      "source": [
        "# LABEL ENCODING\n",
        "def label_encoder(dataframe, binary_col):\n",
        "    labelencoder = LabelEncoder()\n",
        "    dataframe[binary_col] = labelencoder.fit_transform(dataframe[binary_col])\n",
        "    return dataframe"
      ]
    },
    {
      "cell_type": "code",
      "execution_count": 123,
      "id": "0897e5bd",
      "metadata": {
        "colab": {
          "base_uri": "https://localhost:8080/"
        },
        "id": "0897e5bd",
        "outputId": "043db776-6fa6-464a-d725-7f24d89d1672"
      },
      "outputs": [
        {
          "output_type": "execute_result",
          "data": {
            "text/plain": [
              "['NEW_AGE_CAT', 'NEW_INSULIN_SCORE']"
            ]
          },
          "metadata": {},
          "execution_count": 123
        }
      ],
      "source": [
        "binary_cols = [col for col in df.columns if df[col].dtypes == \"O\" and df[col].nunique() == 2]\n",
        "binary_cols"
      ]
    },
    {
      "cell_type": "code",
      "execution_count": 124,
      "id": "f484fbaa",
      "metadata": {
        "colab": {
          "base_uri": "https://localhost:8080/",
          "height": 270
        },
        "id": "f484fbaa",
        "outputId": "4777cdd4-5a06-43e7-dc91-3ea7b8f14c5e"
      },
      "outputs": [
        {
          "output_type": "execute_result",
          "data": {
            "text/plain": [
              "   PREGNANCIES  GLUCOSE  BLOODPRESSURE  SKINTHICKNESS  INSULIN    BMI  DIABETESPEDIGREEFUNCTION  AGE  OUTCOME  NEW_AGE_CAT     NEW_BMI  NEW_GLUCOSE NEW_AGE_BMI_NOM  \\\n",
              "0            6  148.000         72.000         35.000  125.000 33.600                     0.627   50        1            1       Obese  Prediabetes     obesesenior   \n",
              "1            1   85.000         66.000         29.000  125.000 26.600                     0.351   31        0            0  Overweight       Normal     obesemature   \n",
              "2            8  183.000         64.000         29.000  125.000 23.300                     0.672   32        1            0     Healthy  Prediabetes     obesemature   \n",
              "3            1   89.000         66.000         23.000   94.000 28.100                     0.167   21        0            0  Overweight       Normal     obesemature   \n",
              "4            0  137.000         40.000         35.000  168.000 43.100                     2.288   33        1            0       Obese       Normal     obesemature   \n",
              "\n",
              "  NEW_AGE_GLUCOSE_NOM  NEW_INSULIN_SCORE  NEW_GLUCOSE*INSULIN  NEW_GLUCOSE*PREGNANCIES  \n",
              "0          highsenior                  1            18500.000                  888.000  \n",
              "1        normalmature                  1            10625.000                   85.000  \n",
              "2          highmature                  1            22875.000                 1464.000  \n",
              "3        normalmature                  1             8366.000                   89.000  \n",
              "4          highmature                  0            23016.000                    0.000  "
            ],
            "text/html": [
              "\n",
              "  <div id=\"df-d940474d-7a4a-42f7-b06a-1307965edb0c\">\n",
              "    <div class=\"colab-df-container\">\n",
              "      <div>\n",
              "<style scoped>\n",
              "    .dataframe tbody tr th:only-of-type {\n",
              "        vertical-align: middle;\n",
              "    }\n",
              "\n",
              "    .dataframe tbody tr th {\n",
              "        vertical-align: top;\n",
              "    }\n",
              "\n",
              "    .dataframe thead th {\n",
              "        text-align: right;\n",
              "    }\n",
              "</style>\n",
              "<table border=\"1\" class=\"dataframe\">\n",
              "  <thead>\n",
              "    <tr style=\"text-align: right;\">\n",
              "      <th></th>\n",
              "      <th>PREGNANCIES</th>\n",
              "      <th>GLUCOSE</th>\n",
              "      <th>BLOODPRESSURE</th>\n",
              "      <th>SKINTHICKNESS</th>\n",
              "      <th>INSULIN</th>\n",
              "      <th>BMI</th>\n",
              "      <th>DIABETESPEDIGREEFUNCTION</th>\n",
              "      <th>AGE</th>\n",
              "      <th>OUTCOME</th>\n",
              "      <th>NEW_AGE_CAT</th>\n",
              "      <th>NEW_BMI</th>\n",
              "      <th>NEW_GLUCOSE</th>\n",
              "      <th>NEW_AGE_BMI_NOM</th>\n",
              "      <th>NEW_AGE_GLUCOSE_NOM</th>\n",
              "      <th>NEW_INSULIN_SCORE</th>\n",
              "      <th>NEW_GLUCOSE*INSULIN</th>\n",
              "      <th>NEW_GLUCOSE*PREGNANCIES</th>\n",
              "    </tr>\n",
              "  </thead>\n",
              "  <tbody>\n",
              "    <tr>\n",
              "      <th>0</th>\n",
              "      <td>6</td>\n",
              "      <td>148.000</td>\n",
              "      <td>72.000</td>\n",
              "      <td>35.000</td>\n",
              "      <td>125.000</td>\n",
              "      <td>33.600</td>\n",
              "      <td>0.627</td>\n",
              "      <td>50</td>\n",
              "      <td>1</td>\n",
              "      <td>1</td>\n",
              "      <td>Obese</td>\n",
              "      <td>Prediabetes</td>\n",
              "      <td>obesesenior</td>\n",
              "      <td>highsenior</td>\n",
              "      <td>1</td>\n",
              "      <td>18500.000</td>\n",
              "      <td>888.000</td>\n",
              "    </tr>\n",
              "    <tr>\n",
              "      <th>1</th>\n",
              "      <td>1</td>\n",
              "      <td>85.000</td>\n",
              "      <td>66.000</td>\n",
              "      <td>29.000</td>\n",
              "      <td>125.000</td>\n",
              "      <td>26.600</td>\n",
              "      <td>0.351</td>\n",
              "      <td>31</td>\n",
              "      <td>0</td>\n",
              "      <td>0</td>\n",
              "      <td>Overweight</td>\n",
              "      <td>Normal</td>\n",
              "      <td>obesemature</td>\n",
              "      <td>normalmature</td>\n",
              "      <td>1</td>\n",
              "      <td>10625.000</td>\n",
              "      <td>85.000</td>\n",
              "    </tr>\n",
              "    <tr>\n",
              "      <th>2</th>\n",
              "      <td>8</td>\n",
              "      <td>183.000</td>\n",
              "      <td>64.000</td>\n",
              "      <td>29.000</td>\n",
              "      <td>125.000</td>\n",
              "      <td>23.300</td>\n",
              "      <td>0.672</td>\n",
              "      <td>32</td>\n",
              "      <td>1</td>\n",
              "      <td>0</td>\n",
              "      <td>Healthy</td>\n",
              "      <td>Prediabetes</td>\n",
              "      <td>obesemature</td>\n",
              "      <td>highmature</td>\n",
              "      <td>1</td>\n",
              "      <td>22875.000</td>\n",
              "      <td>1464.000</td>\n",
              "    </tr>\n",
              "    <tr>\n",
              "      <th>3</th>\n",
              "      <td>1</td>\n",
              "      <td>89.000</td>\n",
              "      <td>66.000</td>\n",
              "      <td>23.000</td>\n",
              "      <td>94.000</td>\n",
              "      <td>28.100</td>\n",
              "      <td>0.167</td>\n",
              "      <td>21</td>\n",
              "      <td>0</td>\n",
              "      <td>0</td>\n",
              "      <td>Overweight</td>\n",
              "      <td>Normal</td>\n",
              "      <td>obesemature</td>\n",
              "      <td>normalmature</td>\n",
              "      <td>1</td>\n",
              "      <td>8366.000</td>\n",
              "      <td>89.000</td>\n",
              "    </tr>\n",
              "    <tr>\n",
              "      <th>4</th>\n",
              "      <td>0</td>\n",
              "      <td>137.000</td>\n",
              "      <td>40.000</td>\n",
              "      <td>35.000</td>\n",
              "      <td>168.000</td>\n",
              "      <td>43.100</td>\n",
              "      <td>2.288</td>\n",
              "      <td>33</td>\n",
              "      <td>1</td>\n",
              "      <td>0</td>\n",
              "      <td>Obese</td>\n",
              "      <td>Normal</td>\n",
              "      <td>obesemature</td>\n",
              "      <td>highmature</td>\n",
              "      <td>0</td>\n",
              "      <td>23016.000</td>\n",
              "      <td>0.000</td>\n",
              "    </tr>\n",
              "  </tbody>\n",
              "</table>\n",
              "</div>\n",
              "      <button class=\"colab-df-convert\" onclick=\"convertToInteractive('df-d940474d-7a4a-42f7-b06a-1307965edb0c')\"\n",
              "              title=\"Convert this dataframe to an interactive table.\"\n",
              "              style=\"display:none;\">\n",
              "        \n",
              "  <svg xmlns=\"http://www.w3.org/2000/svg\" height=\"24px\"viewBox=\"0 0 24 24\"\n",
              "       width=\"24px\">\n",
              "    <path d=\"M0 0h24v24H0V0z\" fill=\"none\"/>\n",
              "    <path d=\"M18.56 5.44l.94 2.06.94-2.06 2.06-.94-2.06-.94-.94-2.06-.94 2.06-2.06.94zm-11 1L8.5 8.5l.94-2.06 2.06-.94-2.06-.94L8.5 2.5l-.94 2.06-2.06.94zm10 10l.94 2.06.94-2.06 2.06-.94-2.06-.94-.94-2.06-.94 2.06-2.06.94z\"/><path d=\"M17.41 7.96l-1.37-1.37c-.4-.4-.92-.59-1.43-.59-.52 0-1.04.2-1.43.59L10.3 9.45l-7.72 7.72c-.78.78-.78 2.05 0 2.83L4 21.41c.39.39.9.59 1.41.59.51 0 1.02-.2 1.41-.59l7.78-7.78 2.81-2.81c.8-.78.8-2.07 0-2.86zM5.41 20L4 18.59l7.72-7.72 1.47 1.35L5.41 20z\"/>\n",
              "  </svg>\n",
              "      </button>\n",
              "      \n",
              "  <style>\n",
              "    .colab-df-container {\n",
              "      display:flex;\n",
              "      flex-wrap:wrap;\n",
              "      gap: 12px;\n",
              "    }\n",
              "\n",
              "    .colab-df-convert {\n",
              "      background-color: #E8F0FE;\n",
              "      border: none;\n",
              "      border-radius: 50%;\n",
              "      cursor: pointer;\n",
              "      display: none;\n",
              "      fill: #1967D2;\n",
              "      height: 32px;\n",
              "      padding: 0 0 0 0;\n",
              "      width: 32px;\n",
              "    }\n",
              "\n",
              "    .colab-df-convert:hover {\n",
              "      background-color: #E2EBFA;\n",
              "      box-shadow: 0px 1px 2px rgba(60, 64, 67, 0.3), 0px 1px 3px 1px rgba(60, 64, 67, 0.15);\n",
              "      fill: #174EA6;\n",
              "    }\n",
              "\n",
              "    [theme=dark] .colab-df-convert {\n",
              "      background-color: #3B4455;\n",
              "      fill: #D2E3FC;\n",
              "    }\n",
              "\n",
              "    [theme=dark] .colab-df-convert:hover {\n",
              "      background-color: #434B5C;\n",
              "      box-shadow: 0px 1px 3px 1px rgba(0, 0, 0, 0.15);\n",
              "      filter: drop-shadow(0px 1px 2px rgba(0, 0, 0, 0.3));\n",
              "      fill: #FFFFFF;\n",
              "    }\n",
              "  </style>\n",
              "\n",
              "      <script>\n",
              "        const buttonEl =\n",
              "          document.querySelector('#df-d940474d-7a4a-42f7-b06a-1307965edb0c button.colab-df-convert');\n",
              "        buttonEl.style.display =\n",
              "          google.colab.kernel.accessAllowed ? 'block' : 'none';\n",
              "\n",
              "        async function convertToInteractive(key) {\n",
              "          const element = document.querySelector('#df-d940474d-7a4a-42f7-b06a-1307965edb0c');\n",
              "          const dataTable =\n",
              "            await google.colab.kernel.invokeFunction('convertToInteractive',\n",
              "                                                     [key], {});\n",
              "          if (!dataTable) return;\n",
              "\n",
              "          const docLinkHtml = 'Like what you see? Visit the ' +\n",
              "            '<a target=\"_blank\" href=https://colab.research.google.com/notebooks/data_table.ipynb>data table notebook</a>'\n",
              "            + ' to learn more about interactive tables.';\n",
              "          element.innerHTML = '';\n",
              "          dataTable['output_type'] = 'display_data';\n",
              "          await google.colab.output.renderOutput(dataTable, element);\n",
              "          const docLink = document.createElement('div');\n",
              "          docLink.innerHTML = docLinkHtml;\n",
              "          element.appendChild(docLink);\n",
              "        }\n",
              "      </script>\n",
              "    </div>\n",
              "  </div>\n",
              "  "
            ]
          },
          "metadata": {},
          "execution_count": 124
        }
      ],
      "source": [
        "for col in binary_cols:\n",
        "    df = label_encoder(df, col)\n",
        "df.head()"
      ]
    },
    {
      "cell_type": "code",
      "execution_count": 125,
      "id": "ad055c4a",
      "metadata": {
        "colab": {
          "base_uri": "https://localhost:8080/"
        },
        "id": "ad055c4a",
        "outputId": "1a45cae3-87f5-487a-8b4c-e9246c65abd1"
      },
      "outputs": [
        {
          "output_type": "execute_result",
          "data": {
            "text/plain": [
              "['NEW_AGE_BMI_NOM', 'NEW_AGE_GLUCOSE_NOM', 'NEW_BMI', 'NEW_GLUCOSE']"
            ]
          },
          "metadata": {},
          "execution_count": 125
        }
      ],
      "source": [
        "# One-Hot Encoding İşlemi\n",
        "# cat_cols listesinin güncelleme işlemi\n",
        "cat_cols = [col for col in cat_cols if col not in binary_cols and col not in [\"OUTCOME\"]]\n",
        "cat_cols"
      ]
    },
    {
      "cell_type": "code",
      "execution_count": 128,
      "id": "f3172cfb",
      "metadata": {
        "id": "f3172cfb"
      },
      "outputs": [],
      "source": [
        "def one_hot_encoder(dataframe, categorical_cols, drop_first=False):\n",
        "    dataframe = pd.get_dummies(dataframe, columns=categorical_cols, drop_first=drop_first)\n",
        "    return dataframe\n",
        "df = one_hot_encoder(df, cat_cols, drop_first=True)"
      ]
    },
    {
      "cell_type": "code",
      "execution_count": 130,
      "id": "cd900b7f",
      "metadata": {
        "colab": {
          "base_uri": "https://localhost:8080/"
        },
        "id": "cd900b7f",
        "outputId": "53723130-5b52-4fdd-ab66-c0d45a6145fd"
      },
      "outputs": [
        {
          "output_type": "execute_result",
          "data": {
            "text/plain": [
              "(768, 27)"
            ]
          },
          "metadata": {},
          "execution_count": 130
        }
      ],
      "source": [
        "df.shape"
      ]
    },
    {
      "cell_type": "code",
      "execution_count": 132,
      "id": "743c2a8b",
      "metadata": {
        "colab": {
          "base_uri": "https://localhost:8080/",
          "height": 270
        },
        "id": "743c2a8b",
        "outputId": "f68fd15f-ae5e-42b8-8728-e808bdcb4063"
      },
      "outputs": [
        {
          "output_type": "execute_result",
          "data": {
            "text/plain": [
              "   PREGNANCIES  GLUCOSE  BLOODPRESSURE  SKINTHICKNESS  INSULIN    BMI  DIABETESPEDIGREEFUNCTION  AGE  OUTCOME  NEW_AGE_CAT  NEW_INSULIN_SCORE  NEW_GLUCOSE*INSULIN  \\\n",
              "0            6  148.000         72.000         35.000  125.000 33.600                     0.627   50        1            1                  1            18500.000   \n",
              "1            1   85.000         66.000         29.000  125.000 26.600                     0.351   31        0            0                  1            10625.000   \n",
              "2            8  183.000         64.000         29.000  125.000 23.300                     0.672   32        1            0                  1            22875.000   \n",
              "3            1   89.000         66.000         23.000   94.000 28.100                     0.167   21        0            0                  1             8366.000   \n",
              "4            0  137.000         40.000         35.000  168.000 43.100                     2.288   33        1            0                  0            23016.000   \n",
              "\n",
              "   NEW_GLUCOSE*PREGNANCIES  NEW_AGE_BMI_NOM_obesesenior  NEW_AGE_BMI_NOM_underweightmature  NEW_AGE_GLUCOSE_NOM_hiddensenior  NEW_AGE_GLUCOSE_NOM_highmature  \\\n",
              "0                  888.000                            1                                  0                                 0                               0   \n",
              "1                   85.000                            0                                  0                                 0                               0   \n",
              "2                 1464.000                            0                                  0                                 0                               1   \n",
              "3                   89.000                            0                                  0                                 0                               0   \n",
              "4                    0.000                            0                                  0                                 0                               1   \n",
              "\n",
              "   NEW_AGE_GLUCOSE_NOM_highsenior  NEW_AGE_GLUCOSE_NOM_lowmature  NEW_AGE_GLUCOSE_NOM_lowsenior  NEW_AGE_GLUCOSE_NOM_normalmature  NEW_AGE_GLUCOSE_NOM_normalsenior  \\\n",
              "0                               1                              0                              0                                 0                                 0   \n",
              "1                               0                              0                              0                                 1                                 0   \n",
              "2                               0                              0                              0                                 0                                 0   \n",
              "3                               0                              0                              0                                 1                                 0   \n",
              "4                               0                              0                              0                                 0                                 0   \n",
              "\n",
              "   NEW_BMI_Healthy  NEW_BMI_Overweight  NEW_BMI_Obese  NEW_GLUCOSE_Prediabetes  NEW_GLUCOSE_Diabetes  \n",
              "0                0                   0              1                        1                     0  \n",
              "1                0                   1              0                        0                     0  \n",
              "2                1                   0              0                        1                     0  \n",
              "3                0                   1              0                        0                     0  \n",
              "4                0                   0              1                        0                     0  "
            ],
            "text/html": [
              "\n",
              "  <div id=\"df-91d70b12-f513-429b-8400-428e8269906f\">\n",
              "    <div class=\"colab-df-container\">\n",
              "      <div>\n",
              "<style scoped>\n",
              "    .dataframe tbody tr th:only-of-type {\n",
              "        vertical-align: middle;\n",
              "    }\n",
              "\n",
              "    .dataframe tbody tr th {\n",
              "        vertical-align: top;\n",
              "    }\n",
              "\n",
              "    .dataframe thead th {\n",
              "        text-align: right;\n",
              "    }\n",
              "</style>\n",
              "<table border=\"1\" class=\"dataframe\">\n",
              "  <thead>\n",
              "    <tr style=\"text-align: right;\">\n",
              "      <th></th>\n",
              "      <th>PREGNANCIES</th>\n",
              "      <th>GLUCOSE</th>\n",
              "      <th>BLOODPRESSURE</th>\n",
              "      <th>SKINTHICKNESS</th>\n",
              "      <th>INSULIN</th>\n",
              "      <th>BMI</th>\n",
              "      <th>DIABETESPEDIGREEFUNCTION</th>\n",
              "      <th>AGE</th>\n",
              "      <th>OUTCOME</th>\n",
              "      <th>NEW_AGE_CAT</th>\n",
              "      <th>NEW_INSULIN_SCORE</th>\n",
              "      <th>NEW_GLUCOSE*INSULIN</th>\n",
              "      <th>NEW_GLUCOSE*PREGNANCIES</th>\n",
              "      <th>NEW_AGE_BMI_NOM_obesesenior</th>\n",
              "      <th>NEW_AGE_BMI_NOM_underweightmature</th>\n",
              "      <th>NEW_AGE_GLUCOSE_NOM_hiddensenior</th>\n",
              "      <th>NEW_AGE_GLUCOSE_NOM_highmature</th>\n",
              "      <th>NEW_AGE_GLUCOSE_NOM_highsenior</th>\n",
              "      <th>NEW_AGE_GLUCOSE_NOM_lowmature</th>\n",
              "      <th>NEW_AGE_GLUCOSE_NOM_lowsenior</th>\n",
              "      <th>NEW_AGE_GLUCOSE_NOM_normalmature</th>\n",
              "      <th>NEW_AGE_GLUCOSE_NOM_normalsenior</th>\n",
              "      <th>NEW_BMI_Healthy</th>\n",
              "      <th>NEW_BMI_Overweight</th>\n",
              "      <th>NEW_BMI_Obese</th>\n",
              "      <th>NEW_GLUCOSE_Prediabetes</th>\n",
              "      <th>NEW_GLUCOSE_Diabetes</th>\n",
              "    </tr>\n",
              "  </thead>\n",
              "  <tbody>\n",
              "    <tr>\n",
              "      <th>0</th>\n",
              "      <td>6</td>\n",
              "      <td>148.000</td>\n",
              "      <td>72.000</td>\n",
              "      <td>35.000</td>\n",
              "      <td>125.000</td>\n",
              "      <td>33.600</td>\n",
              "      <td>0.627</td>\n",
              "      <td>50</td>\n",
              "      <td>1</td>\n",
              "      <td>1</td>\n",
              "      <td>1</td>\n",
              "      <td>18500.000</td>\n",
              "      <td>888.000</td>\n",
              "      <td>1</td>\n",
              "      <td>0</td>\n",
              "      <td>0</td>\n",
              "      <td>0</td>\n",
              "      <td>1</td>\n",
              "      <td>0</td>\n",
              "      <td>0</td>\n",
              "      <td>0</td>\n",
              "      <td>0</td>\n",
              "      <td>0</td>\n",
              "      <td>0</td>\n",
              "      <td>1</td>\n",
              "      <td>1</td>\n",
              "      <td>0</td>\n",
              "    </tr>\n",
              "    <tr>\n",
              "      <th>1</th>\n",
              "      <td>1</td>\n",
              "      <td>85.000</td>\n",
              "      <td>66.000</td>\n",
              "      <td>29.000</td>\n",
              "      <td>125.000</td>\n",
              "      <td>26.600</td>\n",
              "      <td>0.351</td>\n",
              "      <td>31</td>\n",
              "      <td>0</td>\n",
              "      <td>0</td>\n",
              "      <td>1</td>\n",
              "      <td>10625.000</td>\n",
              "      <td>85.000</td>\n",
              "      <td>0</td>\n",
              "      <td>0</td>\n",
              "      <td>0</td>\n",
              "      <td>0</td>\n",
              "      <td>0</td>\n",
              "      <td>0</td>\n",
              "      <td>0</td>\n",
              "      <td>1</td>\n",
              "      <td>0</td>\n",
              "      <td>0</td>\n",
              "      <td>1</td>\n",
              "      <td>0</td>\n",
              "      <td>0</td>\n",
              "      <td>0</td>\n",
              "    </tr>\n",
              "    <tr>\n",
              "      <th>2</th>\n",
              "      <td>8</td>\n",
              "      <td>183.000</td>\n",
              "      <td>64.000</td>\n",
              "      <td>29.000</td>\n",
              "      <td>125.000</td>\n",
              "      <td>23.300</td>\n",
              "      <td>0.672</td>\n",
              "      <td>32</td>\n",
              "      <td>1</td>\n",
              "      <td>0</td>\n",
              "      <td>1</td>\n",
              "      <td>22875.000</td>\n",
              "      <td>1464.000</td>\n",
              "      <td>0</td>\n",
              "      <td>0</td>\n",
              "      <td>0</td>\n",
              "      <td>1</td>\n",
              "      <td>0</td>\n",
              "      <td>0</td>\n",
              "      <td>0</td>\n",
              "      <td>0</td>\n",
              "      <td>0</td>\n",
              "      <td>1</td>\n",
              "      <td>0</td>\n",
              "      <td>0</td>\n",
              "      <td>1</td>\n",
              "      <td>0</td>\n",
              "    </tr>\n",
              "    <tr>\n",
              "      <th>3</th>\n",
              "      <td>1</td>\n",
              "      <td>89.000</td>\n",
              "      <td>66.000</td>\n",
              "      <td>23.000</td>\n",
              "      <td>94.000</td>\n",
              "      <td>28.100</td>\n",
              "      <td>0.167</td>\n",
              "      <td>21</td>\n",
              "      <td>0</td>\n",
              "      <td>0</td>\n",
              "      <td>1</td>\n",
              "      <td>8366.000</td>\n",
              "      <td>89.000</td>\n",
              "      <td>0</td>\n",
              "      <td>0</td>\n",
              "      <td>0</td>\n",
              "      <td>0</td>\n",
              "      <td>0</td>\n",
              "      <td>0</td>\n",
              "      <td>0</td>\n",
              "      <td>1</td>\n",
              "      <td>0</td>\n",
              "      <td>0</td>\n",
              "      <td>1</td>\n",
              "      <td>0</td>\n",
              "      <td>0</td>\n",
              "      <td>0</td>\n",
              "    </tr>\n",
              "    <tr>\n",
              "      <th>4</th>\n",
              "      <td>0</td>\n",
              "      <td>137.000</td>\n",
              "      <td>40.000</td>\n",
              "      <td>35.000</td>\n",
              "      <td>168.000</td>\n",
              "      <td>43.100</td>\n",
              "      <td>2.288</td>\n",
              "      <td>33</td>\n",
              "      <td>1</td>\n",
              "      <td>0</td>\n",
              "      <td>0</td>\n",
              "      <td>23016.000</td>\n",
              "      <td>0.000</td>\n",
              "      <td>0</td>\n",
              "      <td>0</td>\n",
              "      <td>0</td>\n",
              "      <td>1</td>\n",
              "      <td>0</td>\n",
              "      <td>0</td>\n",
              "      <td>0</td>\n",
              "      <td>0</td>\n",
              "      <td>0</td>\n",
              "      <td>0</td>\n",
              "      <td>0</td>\n",
              "      <td>1</td>\n",
              "      <td>0</td>\n",
              "      <td>0</td>\n",
              "    </tr>\n",
              "  </tbody>\n",
              "</table>\n",
              "</div>\n",
              "      <button class=\"colab-df-convert\" onclick=\"convertToInteractive('df-91d70b12-f513-429b-8400-428e8269906f')\"\n",
              "              title=\"Convert this dataframe to an interactive table.\"\n",
              "              style=\"display:none;\">\n",
              "        \n",
              "  <svg xmlns=\"http://www.w3.org/2000/svg\" height=\"24px\"viewBox=\"0 0 24 24\"\n",
              "       width=\"24px\">\n",
              "    <path d=\"M0 0h24v24H0V0z\" fill=\"none\"/>\n",
              "    <path d=\"M18.56 5.44l.94 2.06.94-2.06 2.06-.94-2.06-.94-.94-2.06-.94 2.06-2.06.94zm-11 1L8.5 8.5l.94-2.06 2.06-.94-2.06-.94L8.5 2.5l-.94 2.06-2.06.94zm10 10l.94 2.06.94-2.06 2.06-.94-2.06-.94-.94-2.06-.94 2.06-2.06.94z\"/><path d=\"M17.41 7.96l-1.37-1.37c-.4-.4-.92-.59-1.43-.59-.52 0-1.04.2-1.43.59L10.3 9.45l-7.72 7.72c-.78.78-.78 2.05 0 2.83L4 21.41c.39.39.9.59 1.41.59.51 0 1.02-.2 1.41-.59l7.78-7.78 2.81-2.81c.8-.78.8-2.07 0-2.86zM5.41 20L4 18.59l7.72-7.72 1.47 1.35L5.41 20z\"/>\n",
              "  </svg>\n",
              "      </button>\n",
              "      \n",
              "  <style>\n",
              "    .colab-df-container {\n",
              "      display:flex;\n",
              "      flex-wrap:wrap;\n",
              "      gap: 12px;\n",
              "    }\n",
              "\n",
              "    .colab-df-convert {\n",
              "      background-color: #E8F0FE;\n",
              "      border: none;\n",
              "      border-radius: 50%;\n",
              "      cursor: pointer;\n",
              "      display: none;\n",
              "      fill: #1967D2;\n",
              "      height: 32px;\n",
              "      padding: 0 0 0 0;\n",
              "      width: 32px;\n",
              "    }\n",
              "\n",
              "    .colab-df-convert:hover {\n",
              "      background-color: #E2EBFA;\n",
              "      box-shadow: 0px 1px 2px rgba(60, 64, 67, 0.3), 0px 1px 3px 1px rgba(60, 64, 67, 0.15);\n",
              "      fill: #174EA6;\n",
              "    }\n",
              "\n",
              "    [theme=dark] .colab-df-convert {\n",
              "      background-color: #3B4455;\n",
              "      fill: #D2E3FC;\n",
              "    }\n",
              "\n",
              "    [theme=dark] .colab-df-convert:hover {\n",
              "      background-color: #434B5C;\n",
              "      box-shadow: 0px 1px 3px 1px rgba(0, 0, 0, 0.15);\n",
              "      filter: drop-shadow(0px 1px 2px rgba(0, 0, 0, 0.3));\n",
              "      fill: #FFFFFF;\n",
              "    }\n",
              "  </style>\n",
              "\n",
              "      <script>\n",
              "        const buttonEl =\n",
              "          document.querySelector('#df-91d70b12-f513-429b-8400-428e8269906f button.colab-df-convert');\n",
              "        buttonEl.style.display =\n",
              "          google.colab.kernel.accessAllowed ? 'block' : 'none';\n",
              "\n",
              "        async function convertToInteractive(key) {\n",
              "          const element = document.querySelector('#df-91d70b12-f513-429b-8400-428e8269906f');\n",
              "          const dataTable =\n",
              "            await google.colab.kernel.invokeFunction('convertToInteractive',\n",
              "                                                     [key], {});\n",
              "          if (!dataTable) return;\n",
              "\n",
              "          const docLinkHtml = 'Like what you see? Visit the ' +\n",
              "            '<a target=\"_blank\" href=https://colab.research.google.com/notebooks/data_table.ipynb>data table notebook</a>'\n",
              "            + ' to learn more about interactive tables.';\n",
              "          element.innerHTML = '';\n",
              "          dataTable['output_type'] = 'display_data';\n",
              "          await google.colab.output.renderOutput(dataTable, element);\n",
              "          const docLink = document.createElement('div');\n",
              "          docLink.innerHTML = docLinkHtml;\n",
              "          element.appendChild(docLink);\n",
              "        }\n",
              "      </script>\n",
              "    </div>\n",
              "  </div>\n",
              "  "
            ]
          },
          "metadata": {},
          "execution_count": 132
        }
      ],
      "source": [
        "df.head()"
      ]
    },
    {
      "cell_type": "markdown",
      "source": [
        "## STANDARDIZATION"
      ],
      "metadata": {
        "id": "hAubMxqKHA75"
      },
      "id": "hAubMxqKHA75"
    },
    {
      "cell_type": "code",
      "execution_count": 133,
      "id": "41655385",
      "metadata": {
        "colab": {
          "base_uri": "https://localhost:8080/"
        },
        "id": "41655385",
        "outputId": "34b9d981-d631-44e7-8408-ebd3f61cddf8"
      },
      "outputs": [
        {
          "output_type": "execute_result",
          "data": {
            "text/plain": [
              "['PREGNANCIES',\n",
              " 'GLUCOSE',\n",
              " 'BLOODPRESSURE',\n",
              " 'SKINTHICKNESS',\n",
              " 'INSULIN',\n",
              " 'BMI',\n",
              " 'DIABETESPEDIGREEFUNCTION',\n",
              " 'AGE',\n",
              " 'NEW_GLUCOSE*INSULIN',\n",
              " 'NEW_GLUCOSE*PREGNANCIES']"
            ]
          },
          "metadata": {},
          "execution_count": 133
        }
      ],
      "source": [
        "num_cols"
      ]
    },
    {
      "cell_type": "code",
      "execution_count": 136,
      "id": "2450743f",
      "metadata": {
        "colab": {
          "base_uri": "https://localhost:8080/",
          "height": 270
        },
        "id": "2450743f",
        "outputId": "2825bec6-29a0-4b7d-f4db-ce622061b562"
      },
      "outputs": [
        {
          "output_type": "execute_result",
          "data": {
            "text/plain": [
              "   PREGNANCIES  GLUCOSE  BLOODPRESSURE  SKINTHICKNESS  INSULIN    BMI  DIABETESPEDIGREEFUNCTION    AGE  OUTCOME  NEW_AGE_CAT  NEW_INSULIN_SCORE  NEW_GLUCOSE*INSULIN  \\\n",
              "0        0.640    0.866         -0.032          0.680   -0.183  0.167                     0.468  1.426        1            1                  1                0.024   \n",
              "1       -0.845   -1.205         -0.528         -0.011   -0.183 -0.852                    -0.365 -0.191        0            0                  1               -0.503   \n",
              "2        1.234    2.017         -0.694         -0.011   -0.183 -1.333                     0.604 -0.106        1            0                  1                0.317   \n",
              "3       -0.845   -1.074         -0.528         -0.702   -0.553 -0.634                    -0.921 -1.042        0            0                  1               -0.654   \n",
              "4       -1.142    0.504         -2.679          0.680    0.331  1.549                     5.485 -0.020        1            0                  0                0.326   \n",
              "\n",
              "   NEW_GLUCOSE*PREGNANCIES  NEW_AGE_BMI_NOM_obesesenior  NEW_AGE_BMI_NOM_underweightmature  NEW_AGE_GLUCOSE_NOM_hiddensenior  NEW_AGE_GLUCOSE_NOM_highmature  \\\n",
              "0                    0.882                            1                                  0                                 0                               0   \n",
              "1                   -0.858                            0                                  0                                 0                               0   \n",
              "2                    2.129                            0                                  0                                 0                               1   \n",
              "3                   -0.849                            0                                  0                                 0                               0   \n",
              "4                   -1.042                            0                                  0                                 0                               1   \n",
              "\n",
              "   NEW_AGE_GLUCOSE_NOM_highsenior  NEW_AGE_GLUCOSE_NOM_lowmature  NEW_AGE_GLUCOSE_NOM_lowsenior  NEW_AGE_GLUCOSE_NOM_normalmature  NEW_AGE_GLUCOSE_NOM_normalsenior  \\\n",
              "0                               1                              0                              0                                 0                                 0   \n",
              "1                               0                              0                              0                                 1                                 0   \n",
              "2                               0                              0                              0                                 0                                 0   \n",
              "3                               0                              0                              0                                 1                                 0   \n",
              "4                               0                              0                              0                                 0                                 0   \n",
              "\n",
              "   NEW_BMI_Healthy  NEW_BMI_Overweight  NEW_BMI_Obese  NEW_GLUCOSE_Prediabetes  NEW_GLUCOSE_Diabetes  \n",
              "0                0                   0              1                        1                     0  \n",
              "1                0                   1              0                        0                     0  \n",
              "2                1                   0              0                        1                     0  \n",
              "3                0                   1              0                        0                     0  \n",
              "4                0                   0              1                        0                     0  "
            ],
            "text/html": [
              "\n",
              "  <div id=\"df-62e4034e-8e92-4465-9fe6-03775ad63526\">\n",
              "    <div class=\"colab-df-container\">\n",
              "      <div>\n",
              "<style scoped>\n",
              "    .dataframe tbody tr th:only-of-type {\n",
              "        vertical-align: middle;\n",
              "    }\n",
              "\n",
              "    .dataframe tbody tr th {\n",
              "        vertical-align: top;\n",
              "    }\n",
              "\n",
              "    .dataframe thead th {\n",
              "        text-align: right;\n",
              "    }\n",
              "</style>\n",
              "<table border=\"1\" class=\"dataframe\">\n",
              "  <thead>\n",
              "    <tr style=\"text-align: right;\">\n",
              "      <th></th>\n",
              "      <th>PREGNANCIES</th>\n",
              "      <th>GLUCOSE</th>\n",
              "      <th>BLOODPRESSURE</th>\n",
              "      <th>SKINTHICKNESS</th>\n",
              "      <th>INSULIN</th>\n",
              "      <th>BMI</th>\n",
              "      <th>DIABETESPEDIGREEFUNCTION</th>\n",
              "      <th>AGE</th>\n",
              "      <th>OUTCOME</th>\n",
              "      <th>NEW_AGE_CAT</th>\n",
              "      <th>NEW_INSULIN_SCORE</th>\n",
              "      <th>NEW_GLUCOSE*INSULIN</th>\n",
              "      <th>NEW_GLUCOSE*PREGNANCIES</th>\n",
              "      <th>NEW_AGE_BMI_NOM_obesesenior</th>\n",
              "      <th>NEW_AGE_BMI_NOM_underweightmature</th>\n",
              "      <th>NEW_AGE_GLUCOSE_NOM_hiddensenior</th>\n",
              "      <th>NEW_AGE_GLUCOSE_NOM_highmature</th>\n",
              "      <th>NEW_AGE_GLUCOSE_NOM_highsenior</th>\n",
              "      <th>NEW_AGE_GLUCOSE_NOM_lowmature</th>\n",
              "      <th>NEW_AGE_GLUCOSE_NOM_lowsenior</th>\n",
              "      <th>NEW_AGE_GLUCOSE_NOM_normalmature</th>\n",
              "      <th>NEW_AGE_GLUCOSE_NOM_normalsenior</th>\n",
              "      <th>NEW_BMI_Healthy</th>\n",
              "      <th>NEW_BMI_Overweight</th>\n",
              "      <th>NEW_BMI_Obese</th>\n",
              "      <th>NEW_GLUCOSE_Prediabetes</th>\n",
              "      <th>NEW_GLUCOSE_Diabetes</th>\n",
              "    </tr>\n",
              "  </thead>\n",
              "  <tbody>\n",
              "    <tr>\n",
              "      <th>0</th>\n",
              "      <td>0.640</td>\n",
              "      <td>0.866</td>\n",
              "      <td>-0.032</td>\n",
              "      <td>0.680</td>\n",
              "      <td>-0.183</td>\n",
              "      <td>0.167</td>\n",
              "      <td>0.468</td>\n",
              "      <td>1.426</td>\n",
              "      <td>1</td>\n",
              "      <td>1</td>\n",
              "      <td>1</td>\n",
              "      <td>0.024</td>\n",
              "      <td>0.882</td>\n",
              "      <td>1</td>\n",
              "      <td>0</td>\n",
              "      <td>0</td>\n",
              "      <td>0</td>\n",
              "      <td>1</td>\n",
              "      <td>0</td>\n",
              "      <td>0</td>\n",
              "      <td>0</td>\n",
              "      <td>0</td>\n",
              "      <td>0</td>\n",
              "      <td>0</td>\n",
              "      <td>1</td>\n",
              "      <td>1</td>\n",
              "      <td>0</td>\n",
              "    </tr>\n",
              "    <tr>\n",
              "      <th>1</th>\n",
              "      <td>-0.845</td>\n",
              "      <td>-1.205</td>\n",
              "      <td>-0.528</td>\n",
              "      <td>-0.011</td>\n",
              "      <td>-0.183</td>\n",
              "      <td>-0.852</td>\n",
              "      <td>-0.365</td>\n",
              "      <td>-0.191</td>\n",
              "      <td>0</td>\n",
              "      <td>0</td>\n",
              "      <td>1</td>\n",
              "      <td>-0.503</td>\n",
              "      <td>-0.858</td>\n",
              "      <td>0</td>\n",
              "      <td>0</td>\n",
              "      <td>0</td>\n",
              "      <td>0</td>\n",
              "      <td>0</td>\n",
              "      <td>0</td>\n",
              "      <td>0</td>\n",
              "      <td>1</td>\n",
              "      <td>0</td>\n",
              "      <td>0</td>\n",
              "      <td>1</td>\n",
              "      <td>0</td>\n",
              "      <td>0</td>\n",
              "      <td>0</td>\n",
              "    </tr>\n",
              "    <tr>\n",
              "      <th>2</th>\n",
              "      <td>1.234</td>\n",
              "      <td>2.017</td>\n",
              "      <td>-0.694</td>\n",
              "      <td>-0.011</td>\n",
              "      <td>-0.183</td>\n",
              "      <td>-1.333</td>\n",
              "      <td>0.604</td>\n",
              "      <td>-0.106</td>\n",
              "      <td>1</td>\n",
              "      <td>0</td>\n",
              "      <td>1</td>\n",
              "      <td>0.317</td>\n",
              "      <td>2.129</td>\n",
              "      <td>0</td>\n",
              "      <td>0</td>\n",
              "      <td>0</td>\n",
              "      <td>1</td>\n",
              "      <td>0</td>\n",
              "      <td>0</td>\n",
              "      <td>0</td>\n",
              "      <td>0</td>\n",
              "      <td>0</td>\n",
              "      <td>1</td>\n",
              "      <td>0</td>\n",
              "      <td>0</td>\n",
              "      <td>1</td>\n",
              "      <td>0</td>\n",
              "    </tr>\n",
              "    <tr>\n",
              "      <th>3</th>\n",
              "      <td>-0.845</td>\n",
              "      <td>-1.074</td>\n",
              "      <td>-0.528</td>\n",
              "      <td>-0.702</td>\n",
              "      <td>-0.553</td>\n",
              "      <td>-0.634</td>\n",
              "      <td>-0.921</td>\n",
              "      <td>-1.042</td>\n",
              "      <td>0</td>\n",
              "      <td>0</td>\n",
              "      <td>1</td>\n",
              "      <td>-0.654</td>\n",
              "      <td>-0.849</td>\n",
              "      <td>0</td>\n",
              "      <td>0</td>\n",
              "      <td>0</td>\n",
              "      <td>0</td>\n",
              "      <td>0</td>\n",
              "      <td>0</td>\n",
              "      <td>0</td>\n",
              "      <td>1</td>\n",
              "      <td>0</td>\n",
              "      <td>0</td>\n",
              "      <td>1</td>\n",
              "      <td>0</td>\n",
              "      <td>0</td>\n",
              "      <td>0</td>\n",
              "    </tr>\n",
              "    <tr>\n",
              "      <th>4</th>\n",
              "      <td>-1.142</td>\n",
              "      <td>0.504</td>\n",
              "      <td>-2.679</td>\n",
              "      <td>0.680</td>\n",
              "      <td>0.331</td>\n",
              "      <td>1.549</td>\n",
              "      <td>5.485</td>\n",
              "      <td>-0.020</td>\n",
              "      <td>1</td>\n",
              "      <td>0</td>\n",
              "      <td>0</td>\n",
              "      <td>0.326</td>\n",
              "      <td>-1.042</td>\n",
              "      <td>0</td>\n",
              "      <td>0</td>\n",
              "      <td>0</td>\n",
              "      <td>1</td>\n",
              "      <td>0</td>\n",
              "      <td>0</td>\n",
              "      <td>0</td>\n",
              "      <td>0</td>\n",
              "      <td>0</td>\n",
              "      <td>0</td>\n",
              "      <td>0</td>\n",
              "      <td>1</td>\n",
              "      <td>0</td>\n",
              "      <td>0</td>\n",
              "    </tr>\n",
              "  </tbody>\n",
              "</table>\n",
              "</div>\n",
              "      <button class=\"colab-df-convert\" onclick=\"convertToInteractive('df-62e4034e-8e92-4465-9fe6-03775ad63526')\"\n",
              "              title=\"Convert this dataframe to an interactive table.\"\n",
              "              style=\"display:none;\">\n",
              "        \n",
              "  <svg xmlns=\"http://www.w3.org/2000/svg\" height=\"24px\"viewBox=\"0 0 24 24\"\n",
              "       width=\"24px\">\n",
              "    <path d=\"M0 0h24v24H0V0z\" fill=\"none\"/>\n",
              "    <path d=\"M18.56 5.44l.94 2.06.94-2.06 2.06-.94-2.06-.94-.94-2.06-.94 2.06-2.06.94zm-11 1L8.5 8.5l.94-2.06 2.06-.94-2.06-.94L8.5 2.5l-.94 2.06-2.06.94zm10 10l.94 2.06.94-2.06 2.06-.94-2.06-.94-.94-2.06-.94 2.06-2.06.94z\"/><path d=\"M17.41 7.96l-1.37-1.37c-.4-.4-.92-.59-1.43-.59-.52 0-1.04.2-1.43.59L10.3 9.45l-7.72 7.72c-.78.78-.78 2.05 0 2.83L4 21.41c.39.39.9.59 1.41.59.51 0 1.02-.2 1.41-.59l7.78-7.78 2.81-2.81c.8-.78.8-2.07 0-2.86zM5.41 20L4 18.59l7.72-7.72 1.47 1.35L5.41 20z\"/>\n",
              "  </svg>\n",
              "      </button>\n",
              "      \n",
              "  <style>\n",
              "    .colab-df-container {\n",
              "      display:flex;\n",
              "      flex-wrap:wrap;\n",
              "      gap: 12px;\n",
              "    }\n",
              "\n",
              "    .colab-df-convert {\n",
              "      background-color: #E8F0FE;\n",
              "      border: none;\n",
              "      border-radius: 50%;\n",
              "      cursor: pointer;\n",
              "      display: none;\n",
              "      fill: #1967D2;\n",
              "      height: 32px;\n",
              "      padding: 0 0 0 0;\n",
              "      width: 32px;\n",
              "    }\n",
              "\n",
              "    .colab-df-convert:hover {\n",
              "      background-color: #E2EBFA;\n",
              "      box-shadow: 0px 1px 2px rgba(60, 64, 67, 0.3), 0px 1px 3px 1px rgba(60, 64, 67, 0.15);\n",
              "      fill: #174EA6;\n",
              "    }\n",
              "\n",
              "    [theme=dark] .colab-df-convert {\n",
              "      background-color: #3B4455;\n",
              "      fill: #D2E3FC;\n",
              "    }\n",
              "\n",
              "    [theme=dark] .colab-df-convert:hover {\n",
              "      background-color: #434B5C;\n",
              "      box-shadow: 0px 1px 3px 1px rgba(0, 0, 0, 0.15);\n",
              "      filter: drop-shadow(0px 1px 2px rgba(0, 0, 0, 0.3));\n",
              "      fill: #FFFFFF;\n",
              "    }\n",
              "  </style>\n",
              "\n",
              "      <script>\n",
              "        const buttonEl =\n",
              "          document.querySelector('#df-62e4034e-8e92-4465-9fe6-03775ad63526 button.colab-df-convert');\n",
              "        buttonEl.style.display =\n",
              "          google.colab.kernel.accessAllowed ? 'block' : 'none';\n",
              "\n",
              "        async function convertToInteractive(key) {\n",
              "          const element = document.querySelector('#df-62e4034e-8e92-4465-9fe6-03775ad63526');\n",
              "          const dataTable =\n",
              "            await google.colab.kernel.invokeFunction('convertToInteractive',\n",
              "                                                     [key], {});\n",
              "          if (!dataTable) return;\n",
              "\n",
              "          const docLinkHtml = 'Like what you see? Visit the ' +\n",
              "            '<a target=\"_blank\" href=https://colab.research.google.com/notebooks/data_table.ipynb>data table notebook</a>'\n",
              "            + ' to learn more about interactive tables.';\n",
              "          element.innerHTML = '';\n",
              "          dataTable['output_type'] = 'display_data';\n",
              "          await google.colab.output.renderOutput(dataTable, element);\n",
              "          const docLink = document.createElement('div');\n",
              "          docLink.innerHTML = docLinkHtml;\n",
              "          element.appendChild(docLink);\n",
              "        }\n",
              "      </script>\n",
              "    </div>\n",
              "  </div>\n",
              "  "
            ]
          },
          "metadata": {},
          "execution_count": 136
        }
      ],
      "source": [
        "scaler = StandardScaler()\n",
        "df[num_cols] = scaler.fit_transform(df[num_cols])\n",
        "df.head()"
      ]
    },
    {
      "cell_type": "code",
      "execution_count": 137,
      "id": "0b560171",
      "metadata": {
        "colab": {
          "base_uri": "https://localhost:8080/"
        },
        "id": "0b560171",
        "outputId": "667a3598-07d3-4e46-a0d1-d1d568356e3d"
      },
      "outputs": [
        {
          "output_type": "execute_result",
          "data": {
            "text/plain": [
              "(768, 27)"
            ]
          },
          "metadata": {},
          "execution_count": 137
        }
      ],
      "source": [
        "df.shape"
      ]
    },
    {
      "cell_type": "markdown",
      "source": [
        "## MODELLING"
      ],
      "metadata": {
        "id": "H1r4TpNWHL9V"
      },
      "id": "H1r4TpNWHL9V"
    },
    {
      "cell_type": "code",
      "execution_count": 138,
      "id": "8480cf95",
      "metadata": {
        "colab": {
          "base_uri": "https://localhost:8080/"
        },
        "id": "8480cf95",
        "outputId": "7ca2f8e3-6d4a-480f-8597-6eb33448e0bf"
      },
      "outputs": [
        {
          "output_type": "stream",
          "name": "stdout",
          "text": [
            "Accuracy: 0.79\n",
            "Recall: 0.711\n",
            "Precision: 0.67\n",
            "F1: 0.69\n",
            "Auc: 0.77\n"
          ]
        }
      ],
      "source": [
        "y = df[\"OUTCOME\"]\n",
        "X = df.drop(\"OUTCOME\", axis=1)\n",
        "X_train, X_test, y_train, y_test = train_test_split(X, y, test_size=0.30, random_state=17)\n",
        "rf_model = RandomForestClassifier(random_state=46).fit(X_train, y_train)\n",
        "y_pred = rf_model.predict(X_test)\n",
        "print(f\"Accuracy: {round(accuracy_score(y_pred, y_test), 2)}\")\n",
        "print(f\"Recall: {round(recall_score(y_pred, y_test), 3)}\")\n",
        "print(f\"Precision: {round(precision_score(y_pred, y_test), 2)}\")\n",
        "print(f\"F1: {round(f1_score(y_pred, y_test), 2)}\")\n",
        "print(f\"Auc: {round(roc_auc_score(y_pred, y_test), 2)}\")"
      ]
    },
    {
      "cell_type": "markdown",
      "source": [
        "### FEATURE IMPORTANCE"
      ],
      "metadata": {
        "id": "waF1ANRGHYqO"
      },
      "id": "waF1ANRGHYqO"
    },
    {
      "cell_type": "code",
      "execution_count": 140,
      "id": "8c62c687",
      "metadata": {
        "colab": {
          "base_uri": "https://localhost:8080/",
          "height": 968
        },
        "id": "8c62c687",
        "outputId": "a8917ef2-98fd-4daa-ecfd-710645180fe0"
      },
      "outputs": [
        {
          "output_type": "stream",
          "name": "stdout",
          "text": [
            "    Value                            Feature\n",
            "1   0.138                            GLUCOSE\n",
            "10  0.131                NEW_GLUCOSE*INSULIN\n",
            "5   0.099                                BMI\n",
            "11  0.098            NEW_GLUCOSE*PREGNANCIES\n",
            "7   0.097                                AGE\n",
            "..    ...                                ...\n",
            "20  0.001   NEW_AGE_GLUCOSE_NOM_normalsenior\n",
            "17  0.000      NEW_AGE_GLUCOSE_NOM_lowmature\n",
            "13  0.000  NEW_AGE_BMI_NOM_underweightmature\n",
            "18  0.000      NEW_AGE_GLUCOSE_NOM_lowsenior\n",
            "25  0.000               NEW_GLUCOSE_Diabetes\n",
            "\n",
            "[26 rows x 2 columns]\n"
          ]
        },
        {
          "output_type": "display_data",
          "data": {
            "text/plain": [
              "<Figure size 720x720 with 1 Axes>"
            ],
            "image/png": "[encoded data removed]"
          },
          "metadata": {}
        }
      ],
      "source": [
        "def plot_importance(model, features, num=len(X), save=False):\n",
        "    feature_imp = pd.DataFrame({'Value': model.feature_importances_, 'Feature': features.columns})\n",
        "    print(feature_imp.sort_values(\"Value\", ascending=False))\n",
        "    plt.figure(figsize=(10, 10))\n",
        "    sns.set(font_scale=1)\n",
        "    sns.barplot(x=\"Value\", y=\"Feature\", data=feature_imp.sort_values(by=\"Value\",\n",
        "                                                                     ascending=False)[0:num])\n",
        "    plt.title('Features')\n",
        "    plt.tight_layout()\n",
        "    plt.show()\n",
        "    if save:\n",
        "        plt.savefig('importances.png')\n",
        "plot_importance(rf_model, X)"
      ]
    }
  ],
  "metadata": {
    "kernelspec": {
      "display_name": "Python 3 (ipykernel)",
      "language": "python",
      "name": "python3"
    },
    "language_info": {
      "codemirror_mode": {
        "name": "ipython",
        "version": 3
      },
      "file_extension": ".py",
      "mimetype": "text/x-python",
      "name": "python",
      "nbconvert_exporter": "python",
      "pygments_lexer": "ipython3",
      "version": "3.9.12"
    },
    "colab": {
      "provenance": []
    }
  },
  "nbformat": 4,
  "nbformat_minor": 5
}
